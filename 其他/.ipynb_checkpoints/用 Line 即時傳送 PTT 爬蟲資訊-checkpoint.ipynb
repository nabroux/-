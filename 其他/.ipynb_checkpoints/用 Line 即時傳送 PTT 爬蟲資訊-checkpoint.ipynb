{
 "cells": [
  {
   "cell_type": "code",
   "execution_count": 2,
   "metadata": {},
   "outputs": [],
   "source": [
    "from ptt import Board\n",
    "import requests\n",
    "import time"
   ]
  },
  {
   "cell_type": "code",
   "execution_count": 3,
   "metadata": {},
   "outputs": [
    {
     "name": "stdout",
     "output_type": "stream",
     "text": [
      "抓到了\n",
      "[無/台北/木柵] 政大庭園僻靜雅房\n",
      "https://www.ptt.cc//bbs/Rent_ya/M.1576353326.A.362.html\n",
      "抓到了\n",
      "[男/台北/文山] 近政大 世新 包水電瓦斯網路\n",
      "https://www.ptt.cc//bbs/Rent_ya/M.1576284822.A.97A.html\n"
     ]
    },
    {
     "ename": "KeyboardInterrupt",
     "evalue": "",
     "output_type": "error",
     "traceback": [
      "\u001b[1;31m---------------------------------------------------------------------------\u001b[0m",
      "\u001b[1;31mKeyboardInterrupt\u001b[0m                         Traceback (most recent call last)",
      "\u001b[1;32m<ipython-input-3-1a79fa04fb53>\u001b[0m in \u001b[0;36m<module>\u001b[1;34m\u001b[0m\n\u001b[0;32m     35\u001b[0m         \u001b[0mcollected\u001b[0m \u001b[1;33m=\u001b[0m \u001b[1;33m[\u001b[0m\u001b[1;33m]\u001b[0m\u001b[1;33m\u001b[0m\u001b[1;33m\u001b[0m\u001b[0m\n\u001b[0;32m     36\u001b[0m \u001b[1;33m\u001b[0m\u001b[0m\n\u001b[1;32m---> 37\u001b[1;33m     \u001b[0mtime\u001b[0m\u001b[1;33m.\u001b[0m\u001b[0msleep\u001b[0m\u001b[1;33m(\u001b[0m\u001b[0mrestart_time\u001b[0m\u001b[1;33m)\u001b[0m\u001b[1;33m\u001b[0m\u001b[1;33m\u001b[0m\u001b[0m\n\u001b[0m\u001b[0;32m     38\u001b[0m \u001b[1;33m\u001b[0m\u001b[0m\n",
      "\u001b[1;31mKeyboardInterrupt\u001b[0m: "
     ]
    }
   ],
   "source": [
    "ptt_url = 'https://www.ptt.cc/'\n",
    "Board_Name = 'rent_ya'\n",
    "keywords = ['文山區', '政大']\n",
    "app_name = 'find_a_house'\n",
    "token = 'IeGZKKrGvDoIt4QlQG7Qd'\n",
    "value1 = Board_Name\n",
    "value2 = ', '.join(keywords)\n",
    "\n",
    "restart_time = 3\n",
    "first_page = Board(Board_Name)\n",
    "collected = []\n",
    "\n",
    "while True:\n",
    "    new_collect = []\n",
    "    for post in first_page:\n",
    "        if post.isremoved:\n",
    "            continue\n",
    "        post_title = post.title\n",
    "        post_url = post.url\n",
    "\n",
    "        for keyword in keywords:\n",
    "            if keyword in post_title and post_url not in collected:\n",
    "                collected.append(post_url)\n",
    "                new_collect.append(post_title)\n",
    "                new_collect.append(ptt_url + post_url)\n",
    "                print('抓到了', post_title, ptt_url+post_url, sep='\\n')\n",
    "    \n",
    "    if new_collect:\n",
    "        value3 = '<br>'.join(new_collect)\n",
    "        url = 'https://maker.ifttt.com/trigger/{}/with/key/{}?value1={}&value2={}&value3={}'.format(app_name, token, value1,\n",
    "                                                                                          value2, value3)\n",
    "        requests.get(url)\n",
    "    \n",
    "    if len(collected) > 50:\n",
    "        collected = []\n",
    "        \n",
    "    time.sleep(restart_time)\n",
    "    "
   ]
  },
  {
   "cell_type": "code",
   "execution_count": null,
   "metadata": {},
   "outputs": [],
   "source": []
  }
 ],
 "metadata": {
  "kernelspec": {
   "display_name": "Python 3",
   "language": "python",
   "name": "python3"
  },
  "language_info": {
   "codemirror_mode": {
    "name": "ipython",
    "version": 3
   },
   "file_extension": ".py",
   "mimetype": "text/x-python",
   "name": "python",
   "nbconvert_exporter": "python",
   "pygments_lexer": "ipython3",
   "version": "3.7.3"
  }
 },
 "nbformat": 4,
 "nbformat_minor": 2
}
