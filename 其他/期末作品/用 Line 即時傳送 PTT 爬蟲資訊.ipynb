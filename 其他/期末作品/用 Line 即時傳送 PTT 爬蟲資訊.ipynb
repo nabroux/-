{
 "cells": [
  {
   "cell_type": "markdown",
   "metadata": {},
   "source": [
    "# 用 Line 即時傳送 PTT 爬蟲資訊 105306076 許雲輔"
   ]
  },
  {
   "cell_type": "markdown",
   "metadata": {},
   "source": [
    "### 匯入所需模組\n",
    "\n",
    "安裝ptt模組 : pip install ptt.py"
   ]
  },
  {
   "cell_type": "code",
   "execution_count": 1,
   "metadata": {},
   "outputs": [],
   "source": [
    "from ptt import Board\n",
    "import requests\n",
    "import time"
   ]
  },
  {
   "cell_type": "markdown",
   "metadata": {},
   "source": [
    "### 利用 IFTTT 中的 webhooks 功能，當訪問特定的 url 時，可以連動到 Line 傳送通知。\n",
    "### 爬蟲的資訊及相關變數則利用 url 傳入參數的方式丟給 webhooks (用requests訪問)"
   ]
  },
  {
   "cell_type": "code",
   "execution_count": null,
   "metadata": {},
   "outputs": [
    {
     "name": "stdout",
     "output_type": "stream",
     "text": [
      "抓到了\n",
      "[無/台北/木柵] 政大庭園僻靜雅房\n",
      "https://www.ptt.cc//bbs/Rent_ya/M.1576353326.A.362.html\n",
      "抓到了\n",
      "[男/台北/文山] 近政大 世新 包水電瓦斯網路\n",
      "https://www.ptt.cc//bbs/Rent_ya/M.1576284822.A.97A.html\n"
     ]
    }
   ],
   "source": [
    "ptt_url = 'https://www.ptt.cc/'\n",
    "Board_Name = 'rent_ya'\n",
    "keywords = ['文山區', '政大', '木柵']\n",
    "app_name = 'ptt_scraper'\n",
    "token = 'xxxxxxxxxxxxxxx' # 此為個人金鑰\n",
    "value1 = Board_Name\n",
    "value2 = ', '.join(keywords)\n",
    "\n",
    "restart_time = 10\n",
    "collected = []\n",
    "\n",
    "while True:\n",
    "    first_page = Board(Board_Name)\n",
    "    new_collect = []\n",
    "    for post in first_page:\n",
    "        if post.isremoved:\n",
    "            continue\n",
    "        post_title = post.title\n",
    "        post_url = post.url\n",
    "\n",
    "        for keyword in keywords:\n",
    "            if keyword in post_title and post_url not in collected:\n",
    "                collected.append(post_url)\n",
    "                new_collect.append(post_title)\n",
    "                new_collect.append(ptt_url + post_url)\n",
    "                print('抓到了', post_title, ptt_url+post_url, sep='\\n')\n",
    "    \n",
    "    if new_collect:\n",
    "        value3 = '<br>'.join(new_collect)\n",
    "        url = 'https://maker.ifttt.com/trigger/{}/with/key/{}?value1={}&value2={}&value3={}'.format(app_name, token, value1,\n",
    "                                                                                          value2, value3)\n",
    "        requests.get(url)\n",
    "    \n",
    "    if len(collected) > 50:\n",
    "        collected.pop()\n",
    "        \n",
    "    time.sleep(restart_time)\n",
    "    "
   ]
  },
  {
   "cell_type": "markdown",
   "metadata": {},
   "source": [
    "# Line 通知結果"
   ]
  },
  {
   "cell_type": "markdown",
   "metadata": {},
   "source": [
    "![line](line.png)"
   ]
  }
 ],
 "metadata": {
  "kernelspec": {
   "display_name": "Python 3",
   "language": "python",
   "name": "python3"
  },
  "language_info": {
   "codemirror_mode": {
    "name": "ipython",
    "version": 3
   },
   "file_extension": ".py",
   "mimetype": "text/x-python",
   "name": "python",
   "nbconvert_exporter": "python",
   "pygments_lexer": "ipython3",
   "version": "3.7.3"
  }
 },
 "nbformat": 4,
 "nbformat_minor": 2
}
