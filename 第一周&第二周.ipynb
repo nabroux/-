{
 "cells": [
  {
   "cell_type": "markdown",
   "metadata": {},
   "source": [
    "# 數據分析三兄弟"
   ]
  },
  {
   "cell_type": "code",
   "execution_count": 1,
   "metadata": {
    "collapsed": true
   },
   "outputs": [],
   "source": [
    "#讓圖會自動出現 不用 plt.show()\n",
    "%matplotlib inline"
   ]
  },
  {
   "cell_type": "code",
   "execution_count": 2,
   "metadata": {
    "collapsed": true
   },
   "outputs": [],
   "source": [
    "import numpy as np\n",
    "import matplotlib.pyplot as plt\n",
    "import pandas as pd"
   ]
  },
  {
   "cell_type": "markdown",
   "metadata": {},
   "source": [
    "# 平均數與標準差"
   ]
  },
  {
   "cell_type": "code",
   "execution_count": 3,
   "metadata": {
    "collapsed": true
   },
   "outputs": [],
   "source": [
    "#常態分布抽樣100個數字\n",
    "y = np.random.randn(100)"
   ]
  },
  {
   "cell_type": "code",
   "execution_count": 4,
   "metadata": {},
   "outputs": [
    {
     "data": {
      "text/plain": [
       "array([ 0.69016636, -1.04283889, -0.34864196, -0.19012208,  0.97423615,\n",
       "       -1.85789803,  0.50582759, -1.73609393,  0.32453656, -0.13394389,\n",
       "        0.89250234, -0.81976844,  0.92068719, -0.22414035,  0.7515329 ,\n",
       "        1.09450546, -0.55976443, -1.16868171, -1.42531276, -0.83692213,\n",
       "        0.49101964, -0.73414059,  0.53503927, -0.50683757, -0.27532913,\n",
       "       -1.42695371, -1.72435298,  0.15591685,  0.45210209, -0.82112182,\n",
       "       -1.33194717,  1.23372666,  0.42721936, -1.19742326, -1.04825838,\n",
       "        0.32644975,  1.54544398, -0.42503749, -0.74656132,  0.70972786,\n",
       "        0.55032793,  1.03919176,  0.65706075,  1.95255687,  2.35732966,\n",
       "        0.3389582 ,  0.50212132,  0.05019958,  0.88369097,  0.68468   ,\n",
       "       -0.41854005,  0.75498827, -1.87441312,  0.07506913,  0.44750144,\n",
       "        0.09627566,  0.13844449, -0.77085964, -1.51482908,  0.19344439,\n",
       "       -0.55580602, -1.47921411,  0.01644484,  1.89136276, -1.10044972,\n",
       "       -0.37698261, -0.289705  ,  1.74152084,  0.5243799 ,  0.05778297,\n",
       "       -0.13752375,  0.27538128, -0.51544681,  1.16549185, -0.94354971,\n",
       "       -0.20080318,  0.45570784,  0.29696061,  0.35098856,  0.971203  ,\n",
       "        0.79869006, -0.18581964, -0.40998536, -0.96546385,  0.07657478,\n",
       "        0.0235588 , -0.24324655, -0.84202755, -0.54026015, -1.27297682,\n",
       "       -0.33526537, -0.40380077, -0.6488294 , -1.70425977,  0.35381332,\n",
       "        1.06710893, -0.79846893, -0.30626082,  0.51569697,  0.47189719])"
      ]
     },
     "execution_count": 4,
     "metadata": {},
     "output_type": "execute_result"
    }
   ],
   "source": [
    "y"
   ]
  },
  {
   "cell_type": "code",
   "execution_count": 5,
   "metadata": {},
   "outputs": [
    {
     "data": {
      "text/plain": [
       "-0.056098348907390454"
      ]
     },
     "execution_count": 5,
     "metadata": {},
     "output_type": "execute_result"
    }
   ],
   "source": [
    "#平均值\n",
    "y.mean()"
   ]
  },
  {
   "cell_type": "code",
   "execution_count": 6,
   "metadata": {},
   "outputs": [
    {
     "data": {
      "text/plain": [
       "0.89667289373431636"
      ]
     },
     "execution_count": 6,
     "metadata": {},
     "output_type": "execute_result"
    }
   ],
   "source": [
    "#標準差\n",
    "y.std()"
   ]
  },
  {
   "cell_type": "code",
   "execution_count": 7,
   "metadata": {},
   "outputs": [
    {
     "data": {
      "text/plain": [
       "36.943901651092602"
      ]
     },
     "execution_count": 7,
     "metadata": {},
     "output_type": "execute_result"
    }
   ],
   "source": [
    "#改變平均\n",
    "(y + 37).mean()"
   ]
  },
  {
   "cell_type": "code",
   "execution_count": 8,
   "metadata": {},
   "outputs": [
    {
     "data": {
      "text/plain": [
       "4.4833644686715823"
      ]
     },
     "execution_count": 8,
     "metadata": {},
     "output_type": "execute_result"
    }
   ],
   "source": [
    "#改變標準差\n",
    "(y * 5).std()"
   ]
  },
  {
   "cell_type": "markdown",
   "metadata": {},
   "source": [
    "## 畫畫看"
   ]
  },
  {
   "cell_type": "code",
   "execution_count": 9,
   "metadata": {
    "collapsed": true
   },
   "outputs": [],
   "source": [
    "x = np.linspace(1,20,100)"
   ]
  },
  {
   "cell_type": "code",
   "execution_count": 10,
   "metadata": {},
   "outputs": [
    {
     "data": {
      "text/plain": [
       "numpy.ndarray"
      ]
     },
     "execution_count": 10,
     "metadata": {},
     "output_type": "execute_result"
    }
   ],
   "source": [
    "type(x)"
   ]
  },
  {
   "cell_type": "code",
   "execution_count": 11,
   "metadata": {
    "collapsed": true
   },
   "outputs": [],
   "source": [
    "y = np.sin(x) + 0.8 * x"
   ]
  },
  {
   "cell_type": "code",
   "execution_count": 12,
   "metadata": {},
   "outputs": [
    {
     "data": {
      "text/plain": [
       "[<matplotlib.lines.Line2D at 0x1b8aeef5358>]"
      ]
     },
     "execution_count": 12,
     "metadata": {},
     "output_type": "execute_result"
    },
    {
     "data": {
      "image/png": "[encoded data removed]",
      "text/plain": [
       "<matplotlib.figure.Figure at 0x1b8aec2c860>"
      ]
     },
     "metadata": {},
     "output_type": "display_data"
    }
   ],
   "source": [
    "plt.plot(x,y)"
   ]
  },
  {
   "cell_type": "code",
   "execution_count": 13,
   "metadata": {
    "collapsed": true
   },
   "outputs": [],
   "source": [
    "#為了模擬真實世界的數據資料(真實數據不會這麼漂亮)，增加 noise進行干擾\n",
    "y = y + 0.4 * np.random.randn(100)"
   ]
  },
  {
   "cell_type": "code",
   "execution_count": 14,
   "metadata": {},
   "outputs": [
    {
     "data": {
      "text/plain": [
       "<matplotlib.rc_context at 0x1b8aef25c88>"
      ]
     },
     "execution_count": 14,
     "metadata": {},
     "output_type": "execute_result"
    }
   ],
   "source": [
    "#可愛風\n",
    "plt.xkcd()"
   ]
  },
  {
   "cell_type": "code",
   "execution_count": 15,
   "metadata": {},
   "outputs": [
    {
     "data": {
      "text/plain": [
       "[<matplotlib.lines.Line2D at 0x1b8aefdbe80>]"
      ]
     },
     "execution_count": 15,
     "metadata": {},
     "output_type": "execute_result"
    },
    {
     "data": {
      "image/png": "[encoded data removed]",
      "text/plain": [
       "<matplotlib.figure.Figure at 0x1b8aef1e898>"
      ]
     },
     "metadata": {},
     "output_type": "display_data"
    }
   ],
   "source": [
    "plt.plot(x,y)"
   ]
  },
  {
   "cell_type": "markdown",
   "metadata": {},
   "source": [
    "# MarkDown時間"
   ]
  },
  {
   "cell_type": "code",
   "execution_count": 16,
   "metadata": {
    "collapsed": true
   },
   "outputs": [],
   "source": [
    "# 最大標題\n",
    "## 第二大標題\n",
    "### 第三大標題"
   ]
  },
  {
   "cell_type": "markdown",
   "metadata": {},
   "source": [
    "# 最大標題\n",
    "## 第二大標題\n",
    "### 第三大標題"
   ]
  },
  {
   "cell_type": "markdown",
   "metadata": {},
   "source": [
    "# 分點說明"
   ]
  },
  {
   "cell_type": "markdown",
   "metadata": {},
   "source": [
    "* 分點1\n",
    "* 分點2\n"
   ]
  },
  {
   "cell_type": "markdown",
   "metadata": {},
   "source": [
    "1. 有順序的分點\n",
    "1. 有順序的分點\n",
    "1. 有順序的分點(順序都打1也沒問題，jupyter跟markdown真的有在做事)"
   ]
  },
  {
   "cell_type": "markdown",
   "metadata": {},
   "source": [
    "# 做超連結"
   ]
  },
  {
   "cell_type": "markdown",
   "metadata": {},
   "source": [
    "[FB社團](https://www.facebook.com/groups/159902691120219/?sorting_setting=CHRONOLOGICAL)"
   ]
  },
  {
   "cell_type": "markdown",
   "metadata": {},
   "source": [
    "成品:\n",
    "[FB社團](https://www.facebook.com/groups/159902691120219/?sorting_setting=CHRONOLOGICAL)"
   ]
  },
  {
   "cell_type": "markdown",
   "metadata": {},
   "source": [
    "# 插入圖片"
   ]
  },
  {
   "cell_type": "code",
   "execution_count": 17,
   "metadata": {},
   "outputs": [
    {
     "name": "stderr",
     "output_type": "stream",
     "text": [
      "'[cozyman]' 不是內部或外部命令、可執行的程式或批次檔。\n"
     ]
    }
   ],
   "source": [
    "#在code模式中輸入檔名可以按 Tab自動填入，輸入完畢再改到 Markdown模式\n",
    "#範例：\n",
    "![cozyman](1.jpg)"
   ]
  },
  {
   "cell_type": "markdown",
   "metadata": {},
   "source": [
    "![cozyman](1.jpg)"
   ]
  },
  {
   "cell_type": "markdown",
   "metadata": {},
   "source": [
    "# 支援LaTeX\n"
   ]
  },
  {
   "cell_type": "markdown",
   "metadata": {},
   "source": [
    "我現在有一個函數 $f(x) = X^3 - 2x^2 + 5$\n",
    "$$L = \\int_a^b x^3 - 2x^2 + 5 \\, dx$$"
   ]
  },
  {
   "cell_type": "markdown",
   "metadata": {},
   "source": [
    "我現在有一個函數 $f(x) = X^3 - 2x^2 + 5$\n",
    "$$L = \\int_a^b x^3 - 2x^2 + 5 \\, dx$$"
   ]
  },
  {
   "cell_type": "markdown",
   "metadata": {},
   "source": [
    "## pi 時間"
   ]
  },
  {
   "cell_type": "code",
   "execution_count": 18,
   "metadata": {
    "collapsed": true
   },
   "outputs": [],
   "source": [
    "#希臘符號PI怎麼打? 反斜線pi+tab\n",
    "π = np.pi"
   ]
  },
  {
   "cell_type": "code",
   "execution_count": 19,
   "metadata": {},
   "outputs": [
    {
     "data": {
      "text/plain": [
       "3.141592653589793"
      ]
     },
     "execution_count": 19,
     "metadata": {},
     "output_type": "execute_result"
    }
   ],
   "source": [
    "π"
   ]
  },
  {
   "cell_type": "markdown",
   "metadata": {},
   "source": [
    "# 真傳 - 朱比特互動"
   ]
  },
  {
   "cell_type": "code",
   "execution_count": 20,
   "metadata": {
    "collapsed": true
   },
   "outputs": [],
   "source": [
    "#這是jupyter notebook提供的功能，需要import\n",
    "from ipywidgets import interact"
   ]
  },
  {
   "cell_type": "code",
   "execution_count": 21,
   "metadata": {
    "collapsed": true
   },
   "outputs": [],
   "source": [
    "#以簡單的 print為例，但我們需要額外自訂一個 print function才能 interact\n",
    "def p(x):\n",
    "    print(x)"
   ]
  },
  {
   "cell_type": "code",
   "execution_count": 22,
   "metadata": {},
   "outputs": [
    {
     "data": {
      "application/vnd.jupyter.widget-view+json": {
       "model_id": "ec16f2c066674aac8b0b9701afc7506e",
       "version_major": 2,
       "version_minor": 0
      },
      "text/plain": [
       "A Jupyter Widget"
      ]
     },
     "metadata": {},
     "output_type": "display_data"
    },
    {
     "data": {
      "text/plain": [
       "<function __main__.p>"
      ]
     },
     "execution_count": 22,
     "metadata": {},
     "output_type": "execute_result"
    }
   ],
   "source": [
    "#用法如下，記得參數名稱要一樣，資料型態如果是「整數」\n",
    "interact(p, x=10)"
   ]
  },
  {
   "cell_type": "code",
   "execution_count": 23,
   "metadata": {},
   "outputs": [
    {
     "data": {
      "application/vnd.jupyter.widget-view+json": {
       "model_id": "807bb8804285405d9eed8b61daf75c8d",
       "version_major": 2,
       "version_minor": 0
      },
      "text/plain": [
       "A Jupyter Widget"
      ]
     },
     "metadata": {},
     "output_type": "display_data"
    },
    {
     "data": {
      "text/plain": [
       "<function __main__.p>"
      ]
     },
     "execution_count": 23,
     "metadata": {},
     "output_type": "execute_result"
    }
   ],
   "source": [
    "#參數型態如果是「浮點數」\n",
    "interact(p, x=10.)"
   ]
  },
  {
   "cell_type": "code",
   "execution_count": 24,
   "metadata": {},
   "outputs": [
    {
     "data": {
      "application/vnd.jupyter.widget-view+json": {
       "model_id": "16c73d4cdbf64234bd38b9e4cd08e584",
       "version_major": 2,
       "version_minor": 0
      },
      "text/plain": [
       "A Jupyter Widget"
      ]
     },
     "metadata": {},
     "output_type": "display_data"
    },
    {
     "data": {
      "text/plain": [
       "<function __main__.p>"
      ]
     },
     "execution_count": 24,
     "metadata": {},
     "output_type": "execute_result"
    }
   ],
   "source": [
    "#參數型態如果是「字串」\n",
    "interact(p, x='yo')"
   ]
  },
  {
   "cell_type": "code",
   "execution_count": 25,
   "metadata": {},
   "outputs": [
    {
     "data": {
      "application/vnd.jupyter.widget-view+json": {
       "model_id": "1e9a44325a2e43b796d0acefbebb3f94",
       "version_major": 2,
       "version_minor": 0
      },
      "text/plain": [
       "A Jupyter Widget"
      ]
     },
     "metadata": {},
     "output_type": "display_data"
    },
    {
     "data": {
      "text/plain": [
       "<function __main__.p>"
      ]
     },
     "execution_count": 25,
     "metadata": {},
     "output_type": "execute_result"
    }
   ],
   "source": [
    "#參數型態如果是「串列」\n",
    "interact(p, x=[1,2,3,4,5])"
   ]
  },
  {
   "cell_type": "code",
   "execution_count": 26,
   "metadata": {},
   "outputs": [
    {
     "data": {
      "application/vnd.jupyter.widget-view+json": {
       "model_id": "dc799f8b38b9433c822f01c8432e97eb",
       "version_major": 2,
       "version_minor": 0
      },
      "text/plain": [
       "A Jupyter Widget"
      ]
     },
     "metadata": {},
     "output_type": "display_data"
    },
    {
     "data": {
      "text/plain": [
       "<function __main__.p>"
      ]
     },
     "execution_count": 26,
     "metadata": {},
     "output_type": "execute_result"
    }
   ],
   "source": [
    "#參數型態如果是「字典」\n",
    "interact(p, x={'Batman':'Bruce Wayne','Catwoman':'Selina Kyle','Robin':'Dick Grayson'})"
   ]
  },
  {
   "cell_type": "markdown",
   "metadata": {},
   "source": [
    "## 畫圖也能這樣搞"
   ]
  },
  {
   "cell_type": "code",
   "execution_count": 27,
   "metadata": {
    "collapsed": true
   },
   "outputs": [],
   "source": [
    "def draw(x):\n",
    "    dx = np.linspace(0,10,50)\n",
    "    dy = np.sin(dx) + dx*x\n",
    "    plt.plot(dx,dy)"
   ]
  },
  {
   "cell_type": "code",
   "execution_count": 28,
   "metadata": {},
   "outputs": [
    {
     "data": {
      "application/vnd.jupyter.widget-view+json": {
       "model_id": "23f0ab0887154aceb052bdd4989b1330",
       "version_major": 2,
       "version_minor": 0
      },
      "text/plain": [
       "A Jupyter Widget"
      ]
     },
     "metadata": {},
     "output_type": "display_data"
    },
    {
     "data": {
      "text/plain": [
       "<function __main__.draw>"
      ]
     },
     "execution_count": 28,
     "metadata": {},
     "output_type": "execute_result"
    }
   ],
   "source": [
    "interact(draw, x = 0.5)"
   ]
  },
  {
   "cell_type": "markdown",
   "metadata": {},
   "source": [
    "## 互動小遊戲"
   ]
  },
  {
   "cell_type": "code",
   "execution_count": 29,
   "metadata": {
    "collapsed": true
   },
   "outputs": [],
   "source": [
    "def move(x=0):\n",
    "    print(' '*x +'費拉沙發')"
   ]
  },
  {
   "cell_type": "code",
   "execution_count": 30,
   "metadata": {},
   "outputs": [
    {
     "data": {
      "application/vnd.jupyter.widget-view+json": {
       "model_id": "bdb5f86c7aaf425ba07219bb7d2e78dd",
       "version_major": 2,
       "version_minor": 0
      },
      "text/plain": [
       "A Jupyter Widget"
      ]
     },
     "metadata": {},
     "output_type": "display_data"
    },
    {
     "data": {
      "text/plain": [
       "<function __main__.move>"
      ]
     },
     "execution_count": 30,
     "metadata": {},
     "output_type": "execute_result"
    }
   ],
   "source": [
    "#參數用 tuple可以訂範圍\n",
    "interact(move, x=(0,50))"
   ]
  },
  {
   "cell_type": "code",
   "execution_count": 31,
   "metadata": {},
   "outputs": [
    {
     "data": {
      "application/vnd.jupyter.widget-view+json": {
       "model_id": "1690a19c017f4fadaf70b49bdb6f7f61",
       "version_major": 2,
       "version_minor": 0
      },
      "text/plain": [
       "A Jupyter Widget"
      ]
     },
     "metadata": {},
     "output_type": "display_data"
    }
   ],
   "source": [
    "#程式碼最後加上分號，可以隱藏 output\n",
    "interact(move, x=(0,50));"
   ]
  },
  {
   "cell_type": "markdown",
   "metadata": {},
   "source": [
    "## 朱比特互動2"
   ]
  },
  {
   "cell_type": "code",
   "execution_count": 32,
   "metadata": {
    "collapsed": true
   },
   "outputs": [],
   "source": [
    "from ipywidgets import interact_manual as i_m"
   ]
  },
  {
   "cell_type": "code",
   "execution_count": 33,
   "metadata": {},
   "outputs": [
    {
     "data": {
      "application/vnd.jupyter.widget-view+json": {
       "model_id": "59795e3817df40a8b4f361bc0b553037",
       "version_major": 2,
       "version_minor": 0
      },
      "text/plain": [
       "A Jupyter Widget"
      ]
     },
     "metadata": {},
     "output_type": "display_data"
    },
    {
     "data": {
      "text/plain": [
       "<function __main__.p>"
      ]
     },
     "execution_count": 33,
     "metadata": {},
     "output_type": "execute_result"
    }
   ],
   "source": [
    "i_m(p, x='拍拍幹')"
   ]
  },
  {
   "cell_type": "code",
   "execution_count": null,
   "metadata": {
    "collapsed": true
   },
   "outputs": [],
   "source": []
  },
  {
   "cell_type": "markdown",
   "metadata": {},
   "source": [
    "# 第一周作業"
   ]
  },
  {
   "cell_type": "code",
   "execution_count": 34,
   "metadata": {
    "collapsed": true
   },
   "outputs": [],
   "source": [
    "x1 = np.linspace(-10,10,30)\n",
    "y1 = abs(x1)"
   ]
  },
  {
   "cell_type": "code",
   "execution_count": null,
   "metadata": {},
   "outputs": [
    {
     "data": {
      "text/plain": [
       "[<matplotlib.lines.Line2D at 0x1b8af45cb70>]"
      ]
     },
     "execution_count": 35,
     "metadata": {},
     "output_type": "execute_result"
    },
    {
     "data": {
      "image/png": "[encoded data removed]",
      "text/plain": [
       "<matplotlib.figure.Figure at 0x1b8af3e8da0>"
      ]
     },
     "metadata": {},
     "output_type": "display_data"
    }
   ],
   "source": [
    "plt.plot(x1,y1,'v')"
   ]
  },
  {
   "cell_type": "markdown",
   "metadata": {},
   "source": [
    "# 第二周作業"
   ]
  },
  {
   "cell_type": "markdown",
   "metadata": {
    "collapsed": true
   },
   "source": [
    "## 尬聊機器人"
   ]
  },
  {
   "cell_type": "code",
   "execution_count": null,
   "metadata": {},
   "outputs": [
    {
     "name": "stdout",
     "output_type": "stream",
     "text": [
      "歡迎來到尬聊機器人....\n",
      "\n",
      "<準備開始尬聊，輸入bye離開聊天>\n",
      "\n"
     ]
    }
   ],
   "source": [
    "msgs = ['阿是干我..','...','恩恩','我覺得不行','齁齁','天氣不錯','是喔哈哈','真的','蛤?!','先別管這個了，你有零錢嗎?','不就好棒棒','ㄏㄏ',':>']\n",
    "\n",
    "print('歡迎來到尬聊機器人....')\n",
    "print('\\n<準備開始尬聊，輸入bye離開聊天>\\n')\n",
    "\n",
    "while True:\n",
    "    text = input('你：')\n",
    "    if 'bye' in text:\n",
    "        break\n",
    "    msg = np.random.choice(msgs)\n",
    "    print('機器人：'+ msg)\n",
    "    "
   ]
  },
  {
   "cell_type": "markdown",
   "metadata": {
    "collapsed": true
   },
   "source": [
    "## 拉霸機"
   ]
  },
  {
   "cell_type": "code",
   "execution_count": null,
   "metadata": {},
   "outputs": [],
   "source": [
    "money = 1000\n",
    "highest = 1000\n",
    "bet = 250\n",
    "\n",
    "def play():\n",
    "    gx = np.linspace(1,2,3)\n",
    "    gy = np.random.randint(1,4,3)\n",
    "    plt.figure(facecolor='yellow')\n",
    "    plt.title(\"SLOT MACHINE\", color='green')\n",
    "    plt.ylim(0.6,3.5)\n",
    "    plt.axis('off')\n",
    "    plt.scatter(gx,gy,s=3500,color='red');\n",
    "    plt.show()\n",
    "    sy = np.sum(gy)\n",
    "    if sy == 3 or sy == 6 and gy[1]==2 or sy == 9:\n",
    "        return 'win'\n",
    "    else:\n",
    "        return 'lose'\n",
    "    \n",
    "print('【規則說明】\\n你正想花花口袋中的錢，這時一台拉霸出現在你眼前，你有勇氣下注、有膽識拉下搖桿嗎？\\n如果有，快來體驗那股刺激感吧！\\n[只要紅點連成一線就能賺到五倍賭金]')\n",
    "while True:\n",
    "    print('\\n目前賭注',bet,',你有',money,'元')\n",
    "    move = input('你想做什麼？ Enter:拉霸！ 1:更改賭注 2:不玩了   >>')\n",
    "    if move == '1':\n",
    "        bet = int(input('想把賭注換成多少？'))\n",
    "    elif move == '2':\n",
    "        print('\\nGame Over!')\n",
    "        break\n",
    "    else:\n",
    "        if money >= bet:\n",
    "            money -= bet\n",
    "            p = play()\n",
    "            if p == 'win':\n",
    "                print('【恭喜中獎】')\n",
    "                money += bet*5\n",
    "                if money > highest:\n",
    "                    highest = money\n",
    "            elif p == 'lose':\n",
    "                print('【銘謝惠顧】')\n",
    "                if money == 0:\n",
    "                    print('\\n錢花光了! Game Over!')\n",
    "                    break\n",
    "        else:\n",
    "            print('【錢不夠啦】')\n",
    "\n",
    "print('【您的最高分：',highest,'】')"
   ]
  },
  {
   "cell_type": "code",
   "execution_count": null,
   "metadata": {
    "collapsed": true
   },
   "outputs": [],
   "source": []
  },
  {
   "cell_type": "code",
   "execution_count": null,
   "metadata": {
    "collapsed": true
   },
   "outputs": [],
   "source": []
  }
 ],
 "metadata": {
  "kernelspec": {
   "display_name": "Python 3",
   "language": "python",
   "name": "python3"
  },
  "language_info": {
   "codemirror_mode": {
    "name": "ipython",
    "version": 3
   },
   "file_extension": ".py",
   "mimetype": "text/x-python",
   "name": "python",
   "nbconvert_exporter": "python",
   "pygments_lexer": "ipython3",
   "version": "3.6.2"
  }
 },
 "nbformat": 4,
 "nbformat_minor": 2
}
