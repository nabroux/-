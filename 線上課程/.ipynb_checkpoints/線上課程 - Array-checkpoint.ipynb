{
 "cells": [
  {
   "cell_type": "markdown",
   "metadata": {},
   "source": [
    "# numpy 的 Array"
   ]
  },
  {
   "cell_type": "code",
   "execution_count": 1,
   "metadata": {
    "collapsed": true
   },
   "outputs": [],
   "source": [
    "%matplotlib inline\n",
    "import numpy as np\n",
    "import matplotlib.pyplot as plt"
   ]
  },
  {
   "cell_type": "markdown",
   "metadata": {},
   "source": [
    "### 算某人學期平均"
   ]
  },
  {
   "cell_type": "code",
   "execution_count": 2,
   "metadata": {
    "collapsed": true
   },
   "outputs": [],
   "source": [
    "grades = np.array([70,80,76])"
   ]
  },
  {
   "cell_type": "code",
   "execution_count": 3,
   "metadata": {},
   "outputs": [],
   "source": [
    "weights = np.array([0.3,0.4,0.3])"
   ]
  },
  {
   "cell_type": "code",
   "execution_count": 4,
   "metadata": {},
   "outputs": [
    {
     "data": {
      "text/plain": [
       "array([ 21. ,  32. ,  22.8])"
      ]
     },
     "execution_count": 4,
     "metadata": {},
     "output_type": "execute_result"
    }
   ],
   "source": [
    "#算學期平均成績，等於分數陣列和權重陣列「內積」\n",
    "g = grades * weights\n",
    "g"
   ]
  },
  {
   "cell_type": "code",
   "execution_count": 5,
   "metadata": {},
   "outputs": [
    {
     "data": {
      "text/plain": [
       "75.799999999999997"
      ]
     },
     "execution_count": 5,
     "metadata": {},
     "output_type": "execute_result"
    }
   ],
   "source": [
    "g.sum()"
   ]
  },
  {
   "cell_type": "code",
   "execution_count": 6,
   "metadata": {},
   "outputs": [
    {
     "data": {
      "text/plain": [
       "75.799999999999997"
      ]
     },
     "execution_count": 6,
     "metadata": {},
     "output_type": "execute_result"
    }
   ],
   "source": [
    "sum(g)"
   ]
  },
  {
   "cell_type": "code",
   "execution_count": 7,
   "metadata": {},
   "outputs": [
    {
     "data": {
      "text/plain": [
       "75.799999999999997"
      ]
     },
     "execution_count": 7,
     "metadata": {},
     "output_type": "execute_result"
    }
   ],
   "source": [
    "#np的內積函式\n",
    "np.dot(grades, weights)"
   ]
  },
  {
   "cell_type": "markdown",
   "metadata": {},
   "source": [
    "### 算很多同學成績"
   ]
  },
  {
   "cell_type": "code",
   "execution_count": 8,
   "metadata": {
    "collapsed": true
   },
   "outputs": [],
   "source": [
    "#四位同學成績 期中考、期末考、平時成績\n",
    "grades = np.array([[100,100,100],\n",
    "         [59,0,70],\n",
    "         [75,90,90],\n",
    "         [60,70,60]])"
   ]
  },
  {
   "cell_type": "code",
   "execution_count": 9,
   "metadata": {},
   "outputs": [
    {
     "data": {
      "text/plain": [
       "array([[100, 100, 100],\n",
       "       [ 59,   0,  70],\n",
       "       [ 75,  90,  90],\n",
       "       [ 60,  70,  60]])"
      ]
     },
     "execution_count": 9,
     "metadata": {},
     "output_type": "execute_result"
    }
   ],
   "source": [
    "grades"
   ]
  },
  {
   "cell_type": "code",
   "execution_count": 10,
   "metadata": {},
   "outputs": [],
   "source": [
    "#大家三個成績權重都一樣，直接 broadcast\n",
    "weights = np.array([0.3,0.4,0.3])"
   ]
  },
  {
   "cell_type": "code",
   "execution_count": 11,
   "metadata": {},
   "outputs": [
    {
     "data": {
      "text/plain": [
       "array([ 100. ,   38.7,   85.5,   64. ])"
      ]
     },
     "execution_count": 11,
     "metadata": {},
     "output_type": "execute_result"
    }
   ],
   "source": [
    "np.dot(grades,weights)"
   ]
  },
  {
   "cell_type": "markdown",
   "metadata": {},
   "source": [
    "# Array大變身"
   ]
  },
  {
   "cell_type": "code",
   "execution_count": 12,
   "metadata": {
    "collapsed": true
   },
   "outputs": [],
   "source": [
    "a = np.random.randn(100)"
   ]
  },
  {
   "cell_type": "code",
   "execution_count": 13,
   "metadata": {},
   "outputs": [
    {
     "data": {
      "text/plain": [
       "array([  4.31199034e-01,   2.27776302e+00,   6.09372390e-01,\n",
       "        -4.61275696e-01,  -2.04544379e+00,   2.25633182e-01,\n",
       "         2.23526810e+00,  -1.67729995e-01,  -1.34902281e+00,\n",
       "         3.18048488e-01,   9.42303648e-01,   2.50172085e+00,\n",
       "         6.49199843e-01,   7.38884814e-01,  -6.55330919e-01,\n",
       "        -1.44067617e+00,   9.18793950e-01,   2.49207396e-01,\n",
       "        -1.27645976e-01,   1.16304654e+00,  -5.57346727e-01,\n",
       "         5.13723965e-01,  -7.56803420e-01,   1.01740960e+00,\n",
       "         1.18830901e+00,   7.37828662e-01,  -1.09960946e-01,\n",
       "         9.77480632e-01,   1.52619041e-01,   1.24163724e+00,\n",
       "         1.17986746e-01,   1.16196103e+00,  -9.04011583e-01,\n",
       "         3.05133439e-01,   1.27482811e+00,   1.62587327e+00,\n",
       "         1.08928684e-01,   5.92868311e-01,  -4.10331930e-01,\n",
       "        -1.08937613e+00,   7.76536749e-01,   1.21058767e-01,\n",
       "         9.91717828e-01,   2.28532089e-01,  -8.63208433e-01,\n",
       "        -1.74557372e-01,   5.32671613e-01,   6.33073139e-01,\n",
       "         1.27478614e+00,  -4.48587883e-01,   3.38741661e-01,\n",
       "        -4.47822033e-01,  -1.23481230e+00,  -6.86127284e-01,\n",
       "        -3.28405533e-02,   9.16916590e-01,  -8.46860512e-03,\n",
       "        -6.84737299e-01,   3.43654750e-01,   9.21897135e-01,\n",
       "        -1.03113705e+00,   9.59324813e-02,   1.65011457e+00,\n",
       "        -1.77760388e-01,  -1.18652037e+00,   1.31262700e+00,\n",
       "         3.57395406e-01,  -1.60898409e+00,  -9.83856498e-01,\n",
       "         3.68985052e-01,  -8.74326105e-01,   1.73565180e+00,\n",
       "         2.22093634e-01,   1.52411953e-01,  -5.84310484e-01,\n",
       "         1.99358925e+00,  -1.05612046e-01,  -6.12074127e-01,\n",
       "        -1.68899858e+00,  -1.90141865e-01,  -7.33585614e-01,\n",
       "         7.65266134e-02,   6.94147016e-01,  -1.12366945e+00,\n",
       "         1.34265693e+00,  -6.08568480e-01,  -2.24562117e-03,\n",
       "         2.92443480e-02,   1.07116331e+00,   6.11979382e-01,\n",
       "         1.09706818e+00,   5.30313769e-01,   1.04557081e+00,\n",
       "         1.06061721e+00,  -5.95326101e-01,   8.23395060e-01,\n",
       "        -7.71175053e-01,   4.41414845e-01,   1.12755201e+00,\n",
       "         3.03265210e-01])"
      ]
     },
     "execution_count": 13,
     "metadata": {},
     "output_type": "execute_result"
    }
   ],
   "source": [
    "a"
   ]
  },
  {
   "cell_type": "code",
   "execution_count": 14,
   "metadata": {
    "scrolled": true
   },
   "outputs": [
    {
     "data": {
      "text/plain": [
       "array([ 54.31199034,  72.77763021,  56.0937239 ,  45.38724304,\n",
       "        29.54556206,  52.25633182,  72.35268103,  48.32270005,\n",
       "        36.50977195,  53.18048488,  59.42303648,  75.01720848,\n",
       "        56.49199843,  57.38884814,  43.44669081,  35.5932383 ,\n",
       "        59.1879395 ,  52.49207396,  48.72354024,  61.63046544,\n",
       "        44.42653273,  55.13723965,  42.4319658 ,  60.174096  ,\n",
       "        61.8830901 ,  57.37828662,  48.90039054,  59.77480632,\n",
       "        51.52619041,  62.41637239,  51.17986746,  61.61961031,\n",
       "        40.95988417,  53.05133439,  62.74828106,  66.25873271,\n",
       "        51.08928684,  55.92868311,  45.8966807 ,  39.1062387 ,\n",
       "        57.76536749,  51.21058767,  59.91717828,  52.28532089,\n",
       "        41.36791567,  48.25442628,  55.32671613,  56.33073139,\n",
       "        62.74786144,  45.51412117,  53.38741661,  45.52177967,\n",
       "        37.65187697,  43.13872716,  49.67159447,  59.1691659 ,\n",
       "        49.91531395,  43.15262701,  53.4365475 ,  59.21897135,\n",
       "        39.68862946,  50.95932481,  66.50114569,  48.22239612,\n",
       "        38.13479626,  63.12626998,  53.57395406,  33.91015913,\n",
       "        40.16143502,  53.68985052,  41.25673895,  67.35651798,\n",
       "        52.22093634,  51.52411953,  44.15689516,  69.93589253,\n",
       "        48.94387954,  43.87925873,  33.11001421,  48.09858135,\n",
       "        42.66414386,  50.76526613,  56.94147016,  38.76330548,\n",
       "        63.42656935,  43.9143152 ,  49.97754379,  50.29244348,\n",
       "        60.71163305,  56.11979382,  60.97068182,  55.30313769,\n",
       "        60.45570812,  60.60617211,  44.04673899,  58.2339506 ,\n",
       "        42.28824947,  54.41414845,  61.2755201 ,  53.0326521 ])"
      ]
     },
     "execution_count": 14,
     "metadata": {},
     "output_type": "execute_result"
    }
   ],
   "source": [
    "a * 10 + 50"
   ]
  },
  {
   "cell_type": "code",
   "execution_count": 15,
   "metadata": {},
   "outputs": [
    {
     "data": {
      "text/plain": [
       "(100,)"
      ]
     },
     "execution_count": 15,
     "metadata": {},
     "output_type": "execute_result"
    }
   ],
   "source": [
    "#a是100維的向量\n",
    "a.shape"
   ]
  },
  {
   "cell_type": "code",
   "execution_count": 16,
   "metadata": {
    "collapsed": true
   },
   "outputs": [],
   "source": [
    "# 5 * 20 = 100 (分成五組，每組20筆)\n",
    "a.shape = (5,20)"
   ]
  },
  {
   "cell_type": "code",
   "execution_count": 17,
   "metadata": {},
   "outputs": [
    {
     "data": {
      "text/plain": [
       "array([[  4.31199034e-01,   2.27776302e+00,   6.09372390e-01,\n",
       "         -4.61275696e-01,  -2.04544379e+00,   2.25633182e-01,\n",
       "          2.23526810e+00,  -1.67729995e-01,  -1.34902281e+00,\n",
       "          3.18048488e-01,   9.42303648e-01,   2.50172085e+00,\n",
       "          6.49199843e-01,   7.38884814e-01,  -6.55330919e-01,\n",
       "         -1.44067617e+00,   9.18793950e-01,   2.49207396e-01,\n",
       "         -1.27645976e-01,   1.16304654e+00],\n",
       "       [ -5.57346727e-01,   5.13723965e-01,  -7.56803420e-01,\n",
       "          1.01740960e+00,   1.18830901e+00,   7.37828662e-01,\n",
       "         -1.09960946e-01,   9.77480632e-01,   1.52619041e-01,\n",
       "          1.24163724e+00,   1.17986746e-01,   1.16196103e+00,\n",
       "         -9.04011583e-01,   3.05133439e-01,   1.27482811e+00,\n",
       "          1.62587327e+00,   1.08928684e-01,   5.92868311e-01,\n",
       "         -4.10331930e-01,  -1.08937613e+00],\n",
       "       [  7.76536749e-01,   1.21058767e-01,   9.91717828e-01,\n",
       "          2.28532089e-01,  -8.63208433e-01,  -1.74557372e-01,\n",
       "          5.32671613e-01,   6.33073139e-01,   1.27478614e+00,\n",
       "         -4.48587883e-01,   3.38741661e-01,  -4.47822033e-01,\n",
       "         -1.23481230e+00,  -6.86127284e-01,  -3.28405533e-02,\n",
       "          9.16916590e-01,  -8.46860512e-03,  -6.84737299e-01,\n",
       "          3.43654750e-01,   9.21897135e-01],\n",
       "       [ -1.03113705e+00,   9.59324813e-02,   1.65011457e+00,\n",
       "         -1.77760388e-01,  -1.18652037e+00,   1.31262700e+00,\n",
       "          3.57395406e-01,  -1.60898409e+00,  -9.83856498e-01,\n",
       "          3.68985052e-01,  -8.74326105e-01,   1.73565180e+00,\n",
       "          2.22093634e-01,   1.52411953e-01,  -5.84310484e-01,\n",
       "          1.99358925e+00,  -1.05612046e-01,  -6.12074127e-01,\n",
       "         -1.68899858e+00,  -1.90141865e-01],\n",
       "       [ -7.33585614e-01,   7.65266134e-02,   6.94147016e-01,\n",
       "         -1.12366945e+00,   1.34265693e+00,  -6.08568480e-01,\n",
       "         -2.24562117e-03,   2.92443480e-02,   1.07116331e+00,\n",
       "          6.11979382e-01,   1.09706818e+00,   5.30313769e-01,\n",
       "          1.04557081e+00,   1.06061721e+00,  -5.95326101e-01,\n",
       "          8.23395060e-01,  -7.71175053e-01,   4.41414845e-01,\n",
       "          1.12755201e+00,   3.03265210e-01]])"
      ]
     },
     "execution_count": 17,
     "metadata": {},
     "output_type": "execute_result"
    }
   ],
   "source": [
    "a"
   ]
  },
  {
   "cell_type": "code",
   "execution_count": 18,
   "metadata": {},
   "outputs": [
    {
     "data": {
      "text/plain": [
       "array([[  4.31199034e-01],\n",
       "       [  2.27776302e+00],\n",
       "       [  6.09372390e-01],\n",
       "       [ -4.61275696e-01],\n",
       "       [ -2.04544379e+00],\n",
       "       [  2.25633182e-01],\n",
       "       [  2.23526810e+00],\n",
       "       [ -1.67729995e-01],\n",
       "       [ -1.34902281e+00],\n",
       "       [  3.18048488e-01],\n",
       "       [  9.42303648e-01],\n",
       "       [  2.50172085e+00],\n",
       "       [  6.49199843e-01],\n",
       "       [  7.38884814e-01],\n",
       "       [ -6.55330919e-01],\n",
       "       [ -1.44067617e+00],\n",
       "       [  9.18793950e-01],\n",
       "       [  2.49207396e-01],\n",
       "       [ -1.27645976e-01],\n",
       "       [  1.16304654e+00],\n",
       "       [ -5.57346727e-01],\n",
       "       [  5.13723965e-01],\n",
       "       [ -7.56803420e-01],\n",
       "       [  1.01740960e+00],\n",
       "       [  1.18830901e+00],\n",
       "       [  7.37828662e-01],\n",
       "       [ -1.09960946e-01],\n",
       "       [  9.77480632e-01],\n",
       "       [  1.52619041e-01],\n",
       "       [  1.24163724e+00],\n",
       "       [  1.17986746e-01],\n",
       "       [  1.16196103e+00],\n",
       "       [ -9.04011583e-01],\n",
       "       [  3.05133439e-01],\n",
       "       [  1.27482811e+00],\n",
       "       [  1.62587327e+00],\n",
       "       [  1.08928684e-01],\n",
       "       [  5.92868311e-01],\n",
       "       [ -4.10331930e-01],\n",
       "       [ -1.08937613e+00],\n",
       "       [  7.76536749e-01],\n",
       "       [  1.21058767e-01],\n",
       "       [  9.91717828e-01],\n",
       "       [  2.28532089e-01],\n",
       "       [ -8.63208433e-01],\n",
       "       [ -1.74557372e-01],\n",
       "       [  5.32671613e-01],\n",
       "       [  6.33073139e-01],\n",
       "       [  1.27478614e+00],\n",
       "       [ -4.48587883e-01],\n",
       "       [  3.38741661e-01],\n",
       "       [ -4.47822033e-01],\n",
       "       [ -1.23481230e+00],\n",
       "       [ -6.86127284e-01],\n",
       "       [ -3.28405533e-02],\n",
       "       [  9.16916590e-01],\n",
       "       [ -8.46860512e-03],\n",
       "       [ -6.84737299e-01],\n",
       "       [  3.43654750e-01],\n",
       "       [  9.21897135e-01],\n",
       "       [ -1.03113705e+00],\n",
       "       [  9.59324813e-02],\n",
       "       [  1.65011457e+00],\n",
       "       [ -1.77760388e-01],\n",
       "       [ -1.18652037e+00],\n",
       "       [  1.31262700e+00],\n",
       "       [  3.57395406e-01],\n",
       "       [ -1.60898409e+00],\n",
       "       [ -9.83856498e-01],\n",
       "       [  3.68985052e-01],\n",
       "       [ -8.74326105e-01],\n",
       "       [  1.73565180e+00],\n",
       "       [  2.22093634e-01],\n",
       "       [  1.52411953e-01],\n",
       "       [ -5.84310484e-01],\n",
       "       [  1.99358925e+00],\n",
       "       [ -1.05612046e-01],\n",
       "       [ -6.12074127e-01],\n",
       "       [ -1.68899858e+00],\n",
       "       [ -1.90141865e-01],\n",
       "       [ -7.33585614e-01],\n",
       "       [  7.65266134e-02],\n",
       "       [  6.94147016e-01],\n",
       "       [ -1.12366945e+00],\n",
       "       [  1.34265693e+00],\n",
       "       [ -6.08568480e-01],\n",
       "       [ -2.24562117e-03],\n",
       "       [  2.92443480e-02],\n",
       "       [  1.07116331e+00],\n",
       "       [  6.11979382e-01],\n",
       "       [  1.09706818e+00],\n",
       "       [  5.30313769e-01],\n",
       "       [  1.04557081e+00],\n",
       "       [  1.06061721e+00],\n",
       "       [ -5.95326101e-01],\n",
       "       [  8.23395060e-01],\n",
       "       [ -7.71175053e-01],\n",
       "       [  4.41414845e-01],\n",
       "       [  1.12755201e+00],\n",
       "       [  3.03265210e-01]])"
      ]
     },
     "execution_count": 18,
     "metadata": {},
     "output_type": "execute_result"
    }
   ],
   "source": [
    "#不會改變本身，return版本\n",
    "a.reshape(100,1)"
   ]
  },
  {
   "cell_type": "code",
   "execution_count": 19,
   "metadata": {},
   "outputs": [
    {
     "data": {
      "text/plain": [
       "array([[  4.31199034e-01,   2.27776302e+00,   6.09372390e-01,\n",
       "         -4.61275696e-01,  -2.04544379e+00,   2.25633182e-01,\n",
       "          2.23526810e+00,  -1.67729995e-01,  -1.34902281e+00,\n",
       "          3.18048488e-01,   9.42303648e-01,   2.50172085e+00,\n",
       "          6.49199843e-01,   7.38884814e-01,  -6.55330919e-01,\n",
       "         -1.44067617e+00,   9.18793950e-01,   2.49207396e-01,\n",
       "         -1.27645976e-01,   1.16304654e+00],\n",
       "       [ -5.57346727e-01,   5.13723965e-01,  -7.56803420e-01,\n",
       "          1.01740960e+00,   1.18830901e+00,   7.37828662e-01,\n",
       "         -1.09960946e-01,   9.77480632e-01,   1.52619041e-01,\n",
       "          1.24163724e+00,   1.17986746e-01,   1.16196103e+00,\n",
       "         -9.04011583e-01,   3.05133439e-01,   1.27482811e+00,\n",
       "          1.62587327e+00,   1.08928684e-01,   5.92868311e-01,\n",
       "         -4.10331930e-01,  -1.08937613e+00],\n",
       "       [  7.76536749e-01,   1.21058767e-01,   9.91717828e-01,\n",
       "          2.28532089e-01,  -8.63208433e-01,  -1.74557372e-01,\n",
       "          5.32671613e-01,   6.33073139e-01,   1.27478614e+00,\n",
       "         -4.48587883e-01,   3.38741661e-01,  -4.47822033e-01,\n",
       "         -1.23481230e+00,  -6.86127284e-01,  -3.28405533e-02,\n",
       "          9.16916590e-01,  -8.46860512e-03,  -6.84737299e-01,\n",
       "          3.43654750e-01,   9.21897135e-01],\n",
       "       [ -1.03113705e+00,   9.59324813e-02,   1.65011457e+00,\n",
       "         -1.77760388e-01,  -1.18652037e+00,   1.31262700e+00,\n",
       "          3.57395406e-01,  -1.60898409e+00,  -9.83856498e-01,\n",
       "          3.68985052e-01,  -8.74326105e-01,   1.73565180e+00,\n",
       "          2.22093634e-01,   1.52411953e-01,  -5.84310484e-01,\n",
       "          1.99358925e+00,  -1.05612046e-01,  -6.12074127e-01,\n",
       "         -1.68899858e+00,  -1.90141865e-01],\n",
       "       [ -7.33585614e-01,   7.65266134e-02,   6.94147016e-01,\n",
       "         -1.12366945e+00,   1.34265693e+00,  -6.08568480e-01,\n",
       "         -2.24562117e-03,   2.92443480e-02,   1.07116331e+00,\n",
       "          6.11979382e-01,   1.09706818e+00,   5.30313769e-01,\n",
       "          1.04557081e+00,   1.06061721e+00,  -5.95326101e-01,\n",
       "          8.23395060e-01,  -7.71175053e-01,   4.41414845e-01,\n",
       "          1.12755201e+00,   3.03265210e-01]])"
      ]
     },
     "execution_count": 19,
     "metadata": {},
     "output_type": "execute_result"
    }
   ],
   "source": [
    "a"
   ]
  },
  {
   "cell_type": "code",
   "execution_count": 20,
   "metadata": {
    "collapsed": true
   },
   "outputs": [],
   "source": [
    "a = a.reshape(100,1)"
   ]
  },
  {
   "cell_type": "markdown",
   "metadata": {},
   "source": [
    "## 快速生成 array"
   ]
  },
  {
   "cell_type": "code",
   "execution_count": 21,
   "metadata": {
    "collapsed": true
   },
   "outputs": [],
   "source": [
    "xy = [[x,y] for x in range(10) for y in range(10)]"
   ]
  },
  {
   "cell_type": "code",
   "execution_count": 22,
   "metadata": {},
   "outputs": [],
   "source": [
    "xy = np.array(xy)"
   ]
  },
  {
   "cell_type": "code",
   "execution_count": 23,
   "metadata": {},
   "outputs": [
    {
     "data": {
      "text/plain": [
       "array([[0, 0],\n",
       "       [0, 1],\n",
       "       [0, 2],\n",
       "       [0, 3],\n",
       "       [0, 4],\n",
       "       [0, 5],\n",
       "       [0, 6],\n",
       "       [0, 7],\n",
       "       [0, 8],\n",
       "       [0, 9],\n",
       "       [1, 0],\n",
       "       [1, 1],\n",
       "       [1, 2],\n",
       "       [1, 3],\n",
       "       [1, 4],\n",
       "       [1, 5],\n",
       "       [1, 6],\n",
       "       [1, 7],\n",
       "       [1, 8],\n",
       "       [1, 9],\n",
       "       [2, 0],\n",
       "       [2, 1],\n",
       "       [2, 2],\n",
       "       [2, 3],\n",
       "       [2, 4],\n",
       "       [2, 5],\n",
       "       [2, 6],\n",
       "       [2, 7],\n",
       "       [2, 8],\n",
       "       [2, 9],\n",
       "       [3, 0],\n",
       "       [3, 1],\n",
       "       [3, 2],\n",
       "       [3, 3],\n",
       "       [3, 4],\n",
       "       [3, 5],\n",
       "       [3, 6],\n",
       "       [3, 7],\n",
       "       [3, 8],\n",
       "       [3, 9],\n",
       "       [4, 0],\n",
       "       [4, 1],\n",
       "       [4, 2],\n",
       "       [4, 3],\n",
       "       [4, 4],\n",
       "       [4, 5],\n",
       "       [4, 6],\n",
       "       [4, 7],\n",
       "       [4, 8],\n",
       "       [4, 9],\n",
       "       [5, 0],\n",
       "       [5, 1],\n",
       "       [5, 2],\n",
       "       [5, 3],\n",
       "       [5, 4],\n",
       "       [5, 5],\n",
       "       [5, 6],\n",
       "       [5, 7],\n",
       "       [5, 8],\n",
       "       [5, 9],\n",
       "       [6, 0],\n",
       "       [6, 1],\n",
       "       [6, 2],\n",
       "       [6, 3],\n",
       "       [6, 4],\n",
       "       [6, 5],\n",
       "       [6, 6],\n",
       "       [6, 7],\n",
       "       [6, 8],\n",
       "       [6, 9],\n",
       "       [7, 0],\n",
       "       [7, 1],\n",
       "       [7, 2],\n",
       "       [7, 3],\n",
       "       [7, 4],\n",
       "       [7, 5],\n",
       "       [7, 6],\n",
       "       [7, 7],\n",
       "       [7, 8],\n",
       "       [7, 9],\n",
       "       [8, 0],\n",
       "       [8, 1],\n",
       "       [8, 2],\n",
       "       [8, 3],\n",
       "       [8, 4],\n",
       "       [8, 5],\n",
       "       [8, 6],\n",
       "       [8, 7],\n",
       "       [8, 8],\n",
       "       [8, 9],\n",
       "       [9, 0],\n",
       "       [9, 1],\n",
       "       [9, 2],\n",
       "       [9, 3],\n",
       "       [9, 4],\n",
       "       [9, 5],\n",
       "       [9, 6],\n",
       "       [9, 7],\n",
       "       [9, 8],\n",
       "       [9, 9]])"
      ]
     },
     "execution_count": 23,
     "metadata": {},
     "output_type": "execute_result"
    }
   ],
   "source": [
    "xy"
   ]
  },
  {
   "cell_type": "code",
   "execution_count": 24,
   "metadata": {},
   "outputs": [
    {
     "data": {
      "text/plain": [
       "array([ 0.,  0.,  0.,  0.,  0.,  0.,  0.,  0.,  0.,  0.])"
      ]
     },
     "execution_count": 24,
     "metadata": {},
     "output_type": "execute_result"
    }
   ],
   "source": [
    "#全0的array\n",
    "np.zeros(10)"
   ]
  },
  {
   "cell_type": "code",
   "execution_count": 25,
   "metadata": {},
   "outputs": [
    {
     "data": {
      "text/plain": [
       "array([[ 0.,  0.,  0.,  0.],\n",
       "       [ 0.,  0.,  0.,  0.],\n",
       "       [ 0.,  0.,  0.,  0.]])"
      ]
     },
     "execution_count": 25,
     "metadata": {},
     "output_type": "execute_result"
    }
   ],
   "source": [
    "np.zeros((3,4))"
   ]
  },
  {
   "cell_type": "code",
   "execution_count": 26,
   "metadata": {},
   "outputs": [
    {
     "data": {
      "text/plain": [
       "array([ 1.,  1.,  1.,  1.,  1.,  1.,  1.,  1.,  1.,  1.])"
      ]
     },
     "execution_count": 26,
     "metadata": {},
     "output_type": "execute_result"
    }
   ],
   "source": [
    "np.ones(10)"
   ]
  },
  {
   "cell_type": "code",
   "execution_count": 27,
   "metadata": {},
   "outputs": [
    {
     "data": {
      "text/plain": [
       "array([[ 1.,  1.,  1.],\n",
       "       [ 1.,  1.,  1.]])"
      ]
     },
     "execution_count": 27,
     "metadata": {},
     "output_type": "execute_result"
    }
   ],
   "source": [
    "np.ones((2,3))"
   ]
  },
  {
   "cell_type": "code",
   "execution_count": 28,
   "metadata": {},
   "outputs": [
    {
     "data": {
      "text/plain": [
       "array([[ 1.,  0.,  0.,  0.,  0.],\n",
       "       [ 0.,  1.,  0.,  0.,  0.],\n",
       "       [ 0.,  0.,  1.,  0.,  0.],\n",
       "       [ 0.,  0.,  0.,  1.,  0.],\n",
       "       [ 0.,  0.,  0.,  0.,  1.]])"
      ]
     },
     "execution_count": 28,
     "metadata": {},
     "output_type": "execute_result"
    }
   ],
   "source": [
    "#單位矩陣\n",
    "np.eye(5)"
   ]
  },
  {
   "cell_type": "markdown",
   "metadata": {},
   "source": [
    "\n",
    "# Array畫圖超方便 "
   ]
  },
  {
   "cell_type": "code",
   "execution_count": 29,
   "metadata": {
    "collapsed": true
   },
   "outputs": [],
   "source": [
    "#rand(n) 隨機生出 n個 0~1 的亂數\n",
    "y = np.random.rand(50)"
   ]
  },
  {
   "cell_type": "code",
   "execution_count": 30,
   "metadata": {},
   "outputs": [
    {
     "data": {
      "text/plain": [
       "array([ 0.76332522,  0.66677498,  0.68421008,  0.70167273,  0.67857705,\n",
       "        0.48308266,  0.44034186,  0.64564881,  0.62814211,  0.14895986,\n",
       "        0.43781215,  0.96971513,  0.73622075,  0.99090711,  0.82910304,\n",
       "        0.60994697,  0.26811198,  0.13461711,  0.6589879 ,  0.3546368 ,\n",
       "        0.78084277,  0.24695999,  0.78072012,  0.86715305,  0.64592606,\n",
       "        0.34188021,  0.71544447,  0.25512557,  0.80216752,  0.44476308,\n",
       "        0.05979752,  0.72453192,  0.04413772,  0.39643617,  0.56699057,\n",
       "        0.56339477,  0.46406281,  0.2824703 ,  0.24983423,  0.70180747,\n",
       "        0.10727546,  0.23888145,  0.66768005,  0.57986006,  0.72945973,\n",
       "        0.47687315,  0.70105451,  0.32781114,  0.90536727,  0.40858277])"
      ]
     },
     "execution_count": 30,
     "metadata": {},
     "output_type": "execute_result"
    }
   ],
   "source": [
    "y"
   ]
  },
  {
   "cell_type": "code",
   "execution_count": 31,
   "metadata": {},
   "outputs": [
    {
     "data": {
      "text/plain": [
       "[<matplotlib.lines.Line2D at 0x19caed69240>]"
      ]
     },
     "execution_count": 31,
     "metadata": {},
     "output_type": "execute_result"
    },
    {
     "data": {
      "image/png": "[encoded data removed]",
      "text/plain": [
       "<matplotlib.figure.Figure at 0x19caebfe5c0>"
      ]
     },
     "metadata": {},
     "output_type": "display_data"
    }
   ],
   "source": [
    "# x值對應到 y的 index\n",
    "plt.plot(y)"
   ]
  },
  {
   "cell_type": "markdown",
   "metadata": {},
   "source": [
    "# Array 快篩法"
   ]
  },
  {
   "cell_type": "code",
   "execution_count": 32,
   "metadata": {
    "collapsed": true
   },
   "outputs": [],
   "source": [
    "L = np.array([3, -2, 4, -5, 333, -555, -60])"
   ]
  },
  {
   "cell_type": "code",
   "execution_count": 33,
   "metadata": {},
   "outputs": [
    {
     "data": {
      "text/plain": [
       "array([False,  True, False,  True, False,  True,  True], dtype=bool)"
      ]
     },
     "execution_count": 33,
     "metadata": {},
     "output_type": "execute_result"
    }
   ],
   "source": [
    "L<0"
   ]
  },
  {
   "cell_type": "code",
   "execution_count": 34,
   "metadata": {},
   "outputs": [
    {
     "data": {
      "text/plain": [
       "array([  -2,   -5, -555,  -60])"
      ]
     },
     "execution_count": 34,
     "metadata": {},
     "output_type": "execute_result"
    }
   ],
   "source": [
    "L[L<0]"
   ]
  },
  {
   "cell_type": "code",
   "execution_count": 35,
   "metadata": {},
   "outputs": [
    {
     "data": {
      "text/plain": [
       "[<matplotlib.lines.Line2D at 0x19caee57e80>]"
      ]
     },
     "execution_count": 35,
     "metadata": {},
     "output_type": "execute_result"
    },
    {
     "data": {
      "image/png": "[encoded data removed]",
      "text/plain": [
       "<matplotlib.figure.Figure at 0x19caeddb2b0>"
      ]
     },
     "metadata": {},
     "output_type": "display_data"
    }
   ],
   "source": [
    "x = np.linspace(-5,5,500)\n",
    "y = np.sinc(x)\n",
    "\n",
    "plt.plot(x,y)"
   ]
  },
  {
   "cell_type": "code",
   "execution_count": 36,
   "metadata": {},
   "outputs": [
    {
     "data": {
      "text/plain": [
       "[<matplotlib.lines.Line2D at 0x19caeec6ac8>]"
      ]
     },
     "execution_count": 36,
     "metadata": {},
     "output_type": "execute_result"
    },
    {
     "data": {
      "image/png": "[encoded data removed]",
      "text/plain": [
       "<matplotlib.figure.Figure at 0x19caeec6a58>"
      ]
     },
     "metadata": {},
     "output_type": "display_data"
    }
   ],
   "source": [
    "plt.plot(x,y)\n",
    "plt.plot(x[y>0],y[y>0],'o')"
   ]
  },
  {
   "cell_type": "code",
   "execution_count": null,
   "metadata": {
    "collapsed": true
   },
   "outputs": [],
   "source": []
  }
 ],
 "metadata": {
  "kernelspec": {
   "display_name": "Python 3",
   "language": "python",
   "name": "python3"
  },
  "language_info": {
   "codemirror_mode": {
    "name": "ipython",
    "version": 3
   },
   "file_extension": ".py",
   "mimetype": "text/x-python",
   "name": "python",
   "nbconvert_exporter": "python",
   "pygments_lexer": "ipython3",
   "version": "3.6.2"
  }
 },
 "nbformat": 4,
 "nbformat_minor": 2
}
