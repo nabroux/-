{
 "cells": [
  {
   "cell_type": "code",
   "execution_count": 3,
   "metadata": {
    "collapsed": true
   },
   "outputs": [],
   "source": [
    "% matplotlib inline\n",
    "import numpy as np\n",
    "from matplotlib import pyplot as plt\n",
    "\n",
    "import pandas as pd"
   ]
  },
  {
   "cell_type": "code",
   "execution_count": 4,
   "metadata": {},
   "outputs": [
    {
     "name": "stdout",
     "output_type": "stream",
     "text": [
      " 磁碟區 C 中的磁碟是 OS\n",
      " 磁碟區序號:  6CEF-2640\n",
      "\n",
      " C:\\Users\\123na\\OneDrive\\文件\\數學軟體應用\\線上課程 的目錄\n",
      "\n",
      "2019/10/06  上午 04:57    <DIR>          .\n",
      "2019/10/06  上午 04:57    <DIR>          ..\n",
      "2019/10/01  上午 10:10    <DIR>          .ipynb_checkpoints\n",
      "2019/09/22  上午 07:29               581 105306076 許雲輔 線上第一周作業.ipynb\n",
      "2019/09/22  上午 07:29               581 105306076 許雲輔 線上第二周作業.ipynb\n",
      "2019/08/30  下午 03:24             2,406 grades.csv\n",
      "2019/09/24  上午 03:41            90,261 線上課程 - Array.ipynb\n",
      "2019/10/05  上午 12:26             9,451 線上課程 - Pandas.ipynb\n",
      "2019/09/24  上午 04:49            36,320 線上課程 - 互動.ipynb\n",
      "               6 個檔案         139,600 位元組\n",
      "               3 個目錄  115,205,271,552 位元組可用\n"
     ]
    }
   ],
   "source": [
    "%ls"
   ]
  },
  {
   "cell_type": "code",
   "execution_count": 5,
   "metadata": {},
   "outputs": [],
   "source": [
    "df = pd.read_csv('grades.csv')"
   ]
  },
  {
   "cell_type": "code",
   "execution_count": null,
   "metadata": {
    "collapsed": true
   },
   "outputs": [],
   "source": []
  }
 ],
 "metadata": {
  "kernelspec": {
   "display_name": "Python 3",
   "language": "python",
   "name": "python3"
  },
  "language_info": {
   "codemirror_mode": {
    "name": "ipython",
    "version": 3
   },
   "file_extension": ".py",
   "mimetype": "text/x-python",
   "name": "python",
   "nbconvert_exporter": "python",
   "pygments_lexer": "ipython3",
   "version": "3.6.2"
  }
 },
 "nbformat": 4,
 "nbformat_minor": 2
}
