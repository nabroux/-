{
 "cells": [
  {
   "cell_type": "markdown",
   "metadata": {},
   "source": [
    "## 第二題\n",
    "\n",
    "向日葵班有40位學生，學期結束後，老師希望知道班上的期末成績相關資訊，作為下個學期教學的參考。\n",
    " \n",
    "請隨機產生40筆0~100的數字作為向日葵班的成績分佈，接著列出最高分、最低分、及格人數(>=60)、平均數、標準差，並且以10分作為一個區間，使用圖表畫出各個區間的人數。"
   ]
  },
  {
   "cell_type": "code",
   "execution_count": 1,
   "metadata": {},
   "outputs": [],
   "source": [
    "%matplotlib inline\n",
    "\n",
    "import matplotlib.pyplot as plt\n",
    "import numpy as np\n",
    "import pandas as pd\n",
    "import seaborn as sns"
   ]
  },
  {
   "cell_type": "code",
   "execution_count": 43,
   "metadata": {},
   "outputs": [
    {
     "data": {
      "text/plain": [
       "array([36, 75, 67, 68,  0, 51, 64, 17, 70, 86, 38, 19, 42, 94, 41, 55,  3,\n",
       "        0, 28, 25, 71, 56, 91, 36,  4, 62, 30, 99, 73, 37, 19, 91, 98, 36,\n",
       "       78, 53, 14, 71, 95, 67])"
      ]
     },
     "execution_count": 43,
     "metadata": {},
     "output_type": "execute_result"
    }
   ],
   "source": [
    "grades = np.random.randint(0,100,40)\n",
    "grades"
   ]
  },
  {
   "cell_type": "code",
   "execution_count": 47,
   "metadata": {},
   "outputs": [],
   "source": [
    "pass_num = len(grades[grades>=60])"
   ]
  },
  {
   "cell_type": "code",
   "execution_count": 48,
   "metadata": {},
   "outputs": [
    {
     "name": "stdout",
     "output_type": "stream",
     "text": [
      "最高分為：99\n",
      "最低分為：0\n",
      "及格人數為：18\n",
      "標準差為：29.135030461628148\n",
      "平均分數為：51.5\n"
     ]
    }
   ],
   "source": [
    "print(\"最高分為：{}\\n最低分為：{}\\n及格人數為：{}\\n標準差為：{}\\n平均分數為：{}\".format(grades.max(), grades.min(), pass_num, grades.std(), grades.mean()))"
   ]
  },
  {
   "cell_type": "markdown",
   "metadata": {},
   "source": [
    "# 成績分布圖"
   ]
  },
  {
   "cell_type": "code",
   "execution_count": 52,
   "metadata": {},
   "outputs": [
    {
     "data": {
      "text/plain": [
       "(array([4., 4., 2., 6., 2., 4., 5., 6., 1., 6.]),\n",
       " array([ 0. ,  9.9, 19.8, 29.7, 39.6, 49.5, 59.4, 69.3, 79.2, 89.1, 99. ]),\n",
       " <a list of 10 Patch objects>)"
      ]
     },
     "execution_count": 52,
     "metadata": {},
     "output_type": "execute_result"
    },
    {
     "data": {
      "image/png": "[encoded data removed]",
      "text/plain": [
       "<Figure size 432x288 with 1 Axes>"
      ]
     },
     "metadata": {},
     "output_type": "display_data"
    }
   ],
   "source": [
    "sns.set_style(\"whitegrid\")\n",
    "plt.xlim(0,100)\n",
    "plt.hist(grades)"
   ]
  },
  {
   "cell_type": "code",
   "execution_count": null,
   "metadata": {},
   "outputs": [],
   "source": []
  }
 ],
 "metadata": {
  "kernelspec": {
   "display_name": "Python 3",
   "language": "python",
   "name": "python3"
  },
  "language_info": {
   "codemirror_mode": {
    "name": "ipython",
    "version": 3
   },
   "file_extension": ".py",
   "mimetype": "text/x-python",
   "name": "python",
   "nbconvert_exporter": "python",
   "pygments_lexer": "ipython3",
   "version": "3.7.3"
  }
 },
 "nbformat": 4,
 "nbformat_minor": 2
}
