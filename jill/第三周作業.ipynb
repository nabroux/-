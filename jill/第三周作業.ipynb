{
 "cells": [
  {
   "cell_type": "markdown",
   "metadata": {},
   "source": [
    "# 登記成績小幫手"
   ]
  },
  {
   "cell_type": "code",
   "execution_count": 2,
   "metadata": {
    "scrolled": true
   },
   "outputs": [
    {
     "name": "stdout",
     "output_type": "stream",
     "text": [
      "請問班上有幾個人?5\n",
      "請問1號同學的分數是: 70\n",
      "請問2號同學的分數是: 88\n",
      "請問3號同學的分數是: 98\n",
      "請問4號同學的分數是: 48\n",
      "請問5號同學的分數是: 60\n",
      "班平均等於 72.8\n"
     ]
    }
   ],
   "source": [
    "grades = []\n",
    "\n",
    "num =int(input(\"請問班上有幾個人?\"))\n",
    "for i in range(1,num+1):\n",
    "    grade = int(input(\"請問\" + str(i) + \"號同學的分數是: \"))\n",
    "    grades.append(grade)\n",
    "\n",
    "print(\"班平均等於\", sum(grades)/num)"
   ]
  },
  {
   "cell_type": "markdown",
   "metadata": {},
   "source": [
    "# 喜八啦香腸攤"
   ]
  },
  {
   "cell_type": "code",
   "execution_count": null,
   "metadata": {},
   "outputs": [],
   "source": [
    "a = [0,0,1,2,3,44,44,5]\n",
    "a.count(0)"
   ]
  },
  {
   "cell_type": "code",
   "execution_count": null,
   "metadata": {},
   "outputs": [],
   "source": [
    "set(a)"
   ]
  },
  {
   "cell_type": "code",
   "execution_count": 1,
   "metadata": {},
   "outputs": [
    {
     "name": "stdout",
     "output_type": "stream",
     "text": [
      "歡迎來到喜八啦香腸攤，規則如下：\n",
      "骰四顆骰子，兩顆或三顆同點數為【對子】，可以得到「一根香腸」\n",
      "若出現兩個對子則為【十八啦】，則可以得到「三根香腸」\n",
      "如果四顆骰子點數一樣則為【豹子】，能得「十根香腸！」\n",
      "\n",
      "\n",
      "按下Enter擲骰子，輸入其他字元則結束 \n",
      "⚃ ⚃ ⚂ ⚂ \n",
      "十八啦！恭喜你得到3根香腸\n",
      "\n",
      "按下Enter擲骰子，輸入其他字元則結束 \n",
      "⚃ ⚃ ⚅ ⚁ \n",
      "對子！恭喜你得到1根香腸\n",
      "\n",
      "按下Enter擲骰子，輸入其他字元則結束 \n",
      "⚄ ⚂ ⚃ ⚂ \n",
      "對子！恭喜你得到1根香腸\n",
      "\n",
      "按下Enter擲骰子，輸入其他字元則結束 \n",
      "⚄ ⚃ ⚃ ⚀ \n",
      "對子！恭喜你得到1根香腸\n",
      "\n",
      "按下Enter擲骰子，輸入其他字元則結束 \n",
      "⚄ ⚂ ⚃ ⚂ \n",
      "對子！恭喜你得到1根香腸\n",
      "\n",
      "按下Enter擲骰子，輸入其他字元則結束 byeeee\n",
      "下次再來玩～\n"
     ]
    }
   ],
   "source": [
    "import random \n",
    "dicePic = ['⚀', '⚁', '⚂', '⚃', '⚄', '⚅']\n",
    "\n",
    "print('歡迎來到喜八啦香腸攤，規則如下：\\n骰四顆骰子，兩顆或三顆同點數為【對子】，可以得到「一根香腸」')\n",
    "print('若出現兩個對子則為【十八啦】，則可以得到「三根香腸」\\n如果四顆骰子點數一樣則為【豹子】，能得「十根香腸！」\\n')\n",
    "\n",
    "while True:\n",
    "    text = input('\\n按下Enter擲骰子，輸入其他字元則結束 ')\n",
    "    if text != '':\n",
    "        print('下次再來玩～')\n",
    "        break\n",
    "    numbers = []\n",
    "    counts = []\n",
    "\n",
    "    for i in range(4):\n",
    "        number = random.randint(1,6)\n",
    "        numbers.append(number)\n",
    "\n",
    "    res = ''\n",
    "    for dice in numbers:\n",
    "        res += dicePic[dice-1]+' '\n",
    "    print(res)\n",
    "\n",
    "    for i in set(numbers):\n",
    "        n = numbers.count(i)\n",
    "        counts.append(n)\n",
    "\n",
    "    if 4 in counts:\n",
    "        print(\"豹子！恭喜你得到10根香腸\")\n",
    "    elif counts.count(2) == 2 :\n",
    "        print('十八啦！恭喜你得到3根香腸')\n",
    "    elif 2 in counts or 3 in counts:\n",
    "        print('對子！恭喜你得到1根香腸')\n",
    "    else:\n",
    "        print('88！銘謝惠顧')"
   ]
  },
  {
   "cell_type": "markdown",
   "metadata": {},
   "source": [
    "# 貓貓喝的水夠嗎!?"
   ]
  },
  {
   "cell_type": "code",
   "execution_count": null,
   "metadata": {},
   "outputs": [],
   "source": [
    "kg = float(input(\"你家的貓咪體重幾公斤？   \"))\n",
    "\n",
    "while True:\n",
    "    water = float(input(\"你家的貓咪今天喝了多少ml的水？   \"))\n",
    "    if water < 40*kg:\n",
    "        print(\"你是隻不健康壞貓貓!!還需要喝\" + str(40*kg - water) + \"ml\")\n",
    "    elif water >= 40*kg and water <60*kg:\n",
    "        print(\"算你乖乖!今天喝水量勉強及格!\")\n",
    "    elif water >= 60*kg:\n",
    "        print(\"你是宇宙無敵乖乖貓! 去找伙食官領賞肉泥一條!\")\n",
    "        break"
   ]
  },
  {
   "cell_type": "markdown",
   "metadata": {},
   "source": [
    "# 點名!"
   ]
  },
  {
   "cell_type": "code",
   "execution_count": null,
   "metadata": {},
   "outputs": [],
   "source": [
    "import random\n",
    "names = []\n",
    "\n",
    "while True:\n",
    "    name = input(\"請輸入同學的名字： \")\n",
    "    if name == \"點名\":\n",
    "        break\n",
    "    else:\n",
    "        names.append(name)\n",
    "\n",
    "n = random.choice(names)\n",
    "print(n)"
   ]
  },
  {
   "cell_type": "markdown",
   "metadata": {},
   "source": [
    "# "
   ]
  }
 ],
 "metadata": {
  "kernelspec": {
   "display_name": "Python 3",
   "language": "python",
   "name": "python3"
  },
  "language_info": {
   "codemirror_mode": {
    "name": "ipython",
    "version": 3
   },
   "file_extension": ".py",
   "mimetype": "text/x-python",
   "name": "python",
   "nbconvert_exporter": "python",
   "pygments_lexer": "ipython3",
   "version": "3.6.2"
  }
 },
 "nbformat": 4,
 "nbformat_minor": 2
}
