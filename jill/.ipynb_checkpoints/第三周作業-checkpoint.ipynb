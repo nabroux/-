{
 "cells": [
  {
   "cell_type": "markdown",
   "metadata": {},
   "source": [
    "# 登記成績小幫手"
   ]
  },
  {
   "cell_type": "code",
   "execution_count": 1,
   "metadata": {
    "scrolled": true
   },
   "outputs": [
    {
     "name": "stdout",
     "output_type": "stream",
     "text": [
      "請問班上有幾個人?1\n",
      "請問1號同學的分數是: 2\n",
      "班平均等於 2.0\n"
     ]
    }
   ],
   "source": [
    "grades = []\n",
    "\n",
    "num =int(input(\"請問班上有幾個人?\"))\n",
    "for i in range(1,num+1):\n",
    "    grade = int(input(\"請問\" + str(i) + \"號同學的分數是: \"))\n",
    "    grades.append(grade)\n",
    "\n",
    "print(\"班平均等於\", sum(grades)/num)"
   ]
  },
  {
   "cell_type": "markdown",
   "metadata": {},
   "source": [
    "# 喜八啦香腸攤"
   ]
  },
  {
   "cell_type": "code",
   "execution_count": 2,
   "metadata": {},
   "outputs": [
    {
     "data": {
      "text/plain": [
       "2"
      ]
     },
     "execution_count": 2,
     "metadata": {},
     "output_type": "execute_result"
    }
   ],
   "source": [
    "a = [0,0,1,2,3,44,44,5]\n",
    "a.count(0)"
   ]
  },
  {
   "cell_type": "code",
   "execution_count": 3,
   "metadata": {},
   "outputs": [
    {
     "data": {
      "text/plain": [
       "{0, 1, 2, 3, 5, 44}"
      ]
     },
     "execution_count": 3,
     "metadata": {},
     "output_type": "execute_result"
    }
   ],
   "source": [
    "set(a)"
   ]
  },
  {
   "cell_type": "code",
   "execution_count": 1,
   "metadata": {},
   "outputs": [
    {
     "name": "stdout",
     "output_type": "stream",
     "text": [
      "[3, 4, 3, 6]\n",
      "⚂ ⚃ ⚂ ⚅ \n",
      "3 有 2 個\n",
      "4 有 1 個\n",
      "6 有 1 個\n",
      "對子！恭喜你得到1根香腸\n"
     ]
    }
   ],
   "source": [
    "import random \n",
    "\n",
    "numbers = []\n",
    "counts = []\n",
    "dicePic = ['⚀', '⚁', '⚂', '⚃', '⚄', '⚅']\n",
    "\n",
    "for i in range(4):\n",
    "    number = random.randint(1,6)\n",
    "    numbers.append(number)\n",
    "print(numbers)\n",
    "\n",
    "res = ''\n",
    "for dice in numbers:\n",
    "    res += dicePic[dice-1]+' '\n",
    "print(res)\n",
    "\n",
    "for i in set(numbers):\n",
    "    n = numbers.count(i)\n",
    "    counts.append(n)\n",
    "    \n",
    "if 4 in counts:\n",
    "    print(\"豹子！恭喜你得到10根香腸\")\n",
    "elif counts.count(2) == 2 :\n",
    "    print('十八啦！恭喜你得到3根香腸')\n",
    "elif 2 in counts or 3 in counts:\n",
    "    print('對子！恭喜你得到1根香腸')\n",
    "else:\n",
    "    print('88！銘謝惠顧')"
   ]
  },
  {
   "cell_type": "markdown",
   "metadata": {},
   "source": [
    "# 貓貓喝的水夠嗎!?"
   ]
  },
  {
   "cell_type": "code",
   "execution_count": 5,
   "metadata": {},
   "outputs": [
    {
     "name": "stdout",
     "output_type": "stream",
     "text": [
      "你家的貓咪體重幾公斤？   3.5\n",
      "你家的貓咪今天喝了多少ml的水？   20\n",
      "你是隻不健康壞貓貓!!還需要喝120.0ml\n",
      "你家的貓咪今天喝了多少ml的水？   200\n",
      "算你乖乖!今天喝水量勉強及格!\n",
      "你家的貓咪今天喝了多少ml的水？   500\n",
      "你是宇宙無敵乖乖貓! 去找伙食官領賞肉泥一條!\n"
     ]
    }
   ],
   "source": [
    "kg = float(input(\"你家的貓咪體重幾公斤？   \"))\n",
    "\n",
    "while True:\n",
    "    water = float(input(\"你家的貓咪今天喝了多少ml的水？   \"))\n",
    "    if water < 40*kg:\n",
    "        print(\"你是隻不健康壞貓貓!!還需要喝\" + str(40*kg - water) + \"ml\")\n",
    "    elif water >= 40*kg and water <60*kg:\n",
    "        print(\"算你乖乖!今天喝水量勉強及格!\")\n",
    "    elif water >= 60*kg:\n",
    "        print(\"你是宇宙無敵乖乖貓! 去找伙食官領賞肉泥一條!\")\n",
    "        break"
   ]
  },
  {
   "cell_type": "markdown",
   "metadata": {},
   "source": [
    "# 來打架啊"
   ]
  },
  {
   "cell_type": "code",
   "execution_count": null,
   "metadata": {
    "collapsed": true
   },
   "outputs": [],
   "source": []
  }
 ],
 "metadata": {
  "kernelspec": {
   "display_name": "Python 3",
   "language": "python",
   "name": "python3"
  },
  "language_info": {
   "codemirror_mode": {
    "name": "ipython",
    "version": 3
   },
   "file_extension": ".py",
   "mimetype": "text/x-python",
   "name": "python",
   "nbconvert_exporter": "python",
   "pygments_lexer": "ipython3",
   "version": "3.6.2"
  }
 },
 "nbformat": 4,
 "nbformat_minor": 2
}
