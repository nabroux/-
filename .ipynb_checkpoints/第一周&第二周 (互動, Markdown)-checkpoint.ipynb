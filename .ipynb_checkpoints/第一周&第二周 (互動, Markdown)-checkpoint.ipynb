{
 "cells": [
  {
   "cell_type": "markdown",
   "metadata": {},
   "source": [
    "# 數據分析三兄弟"
   ]
  },
  {
   "cell_type": "code",
   "execution_count": 11,
   "metadata": {},
   "outputs": [],
   "source": [
    "#讓圖會自動出現 不用 plt.show()\n",
    "%matplotlib inline"
   ]
  },
  {
   "cell_type": "code",
   "execution_count": 12,
   "metadata": {},
   "outputs": [],
   "source": [
    "import numpy as np\n",
    "import matplotlib.pyplot as plt\n",
    "import pandas as pd"
   ]
  },
  {
   "cell_type": "markdown",
   "metadata": {},
   "source": [
    "# 平均數與標準差"
   ]
  },
  {
   "cell_type": "code",
   "execution_count": 3,
   "metadata": {},
   "outputs": [],
   "source": [
    "#常態分布抽樣100個數字\n",
    "y = np.random.randn(100)"
   ]
  },
  {
   "cell_type": "code",
   "execution_count": 4,
   "metadata": {},
   "outputs": [
    {
     "data": {
      "text/plain": [
       "array([ 1.83154920e+00, -4.38873511e-02,  5.10176266e-01, -3.13356407e-01,\n",
       "        1.92916184e+00, -1.82140901e+00, -9.14720479e-02, -5.94624895e-01,\n",
       "       -5.87615881e-01, -1.28194892e+00, -1.37828647e-03, -5.21294814e-01,\n",
       "        7.25280205e-01, -2.38296430e-01,  1.07767643e+00,  4.87107327e-01,\n",
       "       -4.74223598e-01, -8.69528425e-01, -5.31633298e-01,  2.69136974e-01,\n",
       "       -3.58188292e+00,  1.51757056e+00,  1.15498432e+00, -1.44408377e-01,\n",
       "        7.36706236e-01, -7.58805878e-02,  8.66783281e-01,  8.94689303e-01,\n",
       "       -7.33231150e-02,  1.55161400e+00, -1.03519924e-01,  1.54310535e+00,\n",
       "        1.58508570e-01, -1.84836037e-01,  6.05685750e-01,  7.30626821e-02,\n",
       "       -2.71757608e-02,  1.13367907e+00,  1.43323723e+00, -1.98055805e+00,\n",
       "       -3.30878415e-01,  3.70452331e-01,  3.57801875e-01,  7.49962214e-01,\n",
       "        5.33264247e-01,  8.74497707e-02,  1.27037915e+00,  7.64703340e-01,\n",
       "        2.03505230e-01, -8.47667065e-01,  4.06900014e-01,  6.44560570e-01,\n",
       "       -3.14583835e-01, -1.67779125e-01, -3.24594757e-01,  1.94023526e+00,\n",
       "       -3.12321429e-02, -1.72186918e+00, -1.48251134e+00,  8.18291600e-01,\n",
       "        8.10294071e-01, -1.12959845e+00,  8.31762965e-01,  4.01066333e-01,\n",
       "        1.38702527e+00, -7.83667812e-01, -3.66504463e-01, -9.00137082e-01,\n",
       "       -1.28902581e-01,  1.18690557e-01,  4.68960430e-01, -7.56107710e-01,\n",
       "        1.71282249e-01,  7.12708253e-01,  1.05469122e-01, -1.82750468e+00,\n",
       "       -5.33351012e-01,  1.90317400e-01,  4.75052215e-01, -6.71246299e-01,\n",
       "        1.60004660e-01,  1.53467339e+00,  1.61658247e+00, -1.47586561e+00,\n",
       "        1.42762175e+00,  4.16647864e-02, -1.41634091e+00,  1.49824569e+00,\n",
       "        7.30563086e-01,  1.72515449e+00, -9.74658660e-01, -2.66982241e-01,\n",
       "        5.77756098e-01, -3.07893287e-01,  1.36389045e+00, -8.75679244e-01,\n",
       "       -2.84353474e-01, -4.43123433e-01,  1.02926355e+00, -1.60723762e+00])"
      ]
     },
     "execution_count": 4,
     "metadata": {},
     "output_type": "execute_result"
    }
   ],
   "source": [
    "y"
   ]
  },
  {
   "cell_type": "code",
   "execution_count": 5,
   "metadata": {},
   "outputs": [
    {
     "data": {
      "text/plain": [
       "0.10512744903516243"
      ]
     },
     "execution_count": 5,
     "metadata": {},
     "output_type": "execute_result"
    }
   ],
   "source": [
    "#平均值\n",
    "y.mean()"
   ]
  },
  {
   "cell_type": "code",
   "execution_count": 6,
   "metadata": {},
   "outputs": [
    {
     "data": {
      "text/plain": [
       "0.9910584727913031"
      ]
     },
     "execution_count": 6,
     "metadata": {},
     "output_type": "execute_result"
    }
   ],
   "source": [
    "#標準差\n",
    "y.std()"
   ]
  },
  {
   "cell_type": "code",
   "execution_count": 7,
   "metadata": {},
   "outputs": [
    {
     "data": {
      "text/plain": [
       "37.10512744903516"
      ]
     },
     "execution_count": 7,
     "metadata": {},
     "output_type": "execute_result"
    }
   ],
   "source": [
    "#改變平均\n",
    "(y + 37).mean()"
   ]
  },
  {
   "cell_type": "code",
   "execution_count": 8,
   "metadata": {},
   "outputs": [
    {
     "data": {
      "text/plain": [
       "4.955292363956516"
      ]
     },
     "execution_count": 8,
     "metadata": {},
     "output_type": "execute_result"
    }
   ],
   "source": [
    "#改變標準差\n",
    "(y * 5).std()"
   ]
  },
  {
   "cell_type": "markdown",
   "metadata": {},
   "source": [
    "## 畫畫看"
   ]
  },
  {
   "cell_type": "code",
   "execution_count": 9,
   "metadata": {},
   "outputs": [],
   "source": [
    "x = np.linspace(1,20,100)"
   ]
  },
  {
   "cell_type": "code",
   "execution_count": 10,
   "metadata": {},
   "outputs": [
    {
     "data": {
      "text/plain": [
       "numpy.ndarray"
      ]
     },
     "execution_count": 10,
     "metadata": {},
     "output_type": "execute_result"
    }
   ],
   "source": [
    "type(x)"
   ]
  },
  {
   "cell_type": "code",
   "execution_count": 11,
   "metadata": {},
   "outputs": [],
   "source": [
    "y = np.sin(x) + 0.8 * x"
   ]
  },
  {
   "cell_type": "code",
   "execution_count": 12,
   "metadata": {},
   "outputs": [
    {
     "data": {
      "text/plain": [
       "[<matplotlib.lines.Line2D at 0x208efd0d5c0>]"
      ]
     },
     "execution_count": 12,
     "metadata": {},
     "output_type": "execute_result"
    },
    {
     "data": {
      "image/png": "[encoded data removed]",
      "text/plain": [
       "<Figure size 432x288 with 1 Axes>"
      ]
     },
     "metadata": {
      "needs_background": "light"
     },
     "output_type": "display_data"
    }
   ],
   "source": [
    "plt.plot(x,y)"
   ]
  },
  {
   "cell_type": "code",
   "execution_count": 13,
   "metadata": {},
   "outputs": [],
   "source": [
    "#為了模擬真實世界的數據資料(真實數據不會這麼漂亮)，增加 noise進行干擾\n",
    "y = y + 0.4 * np.random.randn(100)"
   ]
  },
  {
   "cell_type": "code",
   "execution_count": 14,
   "metadata": {},
   "outputs": [
    {
     "data": {
      "text/plain": [
       "<matplotlib.rc_context at 0x208efd850b8>"
      ]
     },
     "execution_count": 14,
     "metadata": {},
     "output_type": "execute_result"
    }
   ],
   "source": [
    "#可愛風\n",
    "plt.xkcd()"
   ]
  },
  {
   "cell_type": "code",
   "execution_count": 15,
   "metadata": {},
   "outputs": [
    {
     "data": {
      "text/plain": [
       "[<matplotlib.lines.Line2D at 0x208efdc7ba8>]"
      ]
     },
     "execution_count": 15,
     "metadata": {},
     "output_type": "execute_result"
    },
    {
     "data": {
      "image/png": "[encoded data removed]",
      "text/plain": [
       "<Figure size 432x288 with 1 Axes>"
      ]
     },
     "metadata": {},
     "output_type": "display_data"
    }
   ],
   "source": [
    "plt.plot(x,y)"
   ]
  },
  {
   "cell_type": "markdown",
   "metadata": {},
   "source": [
    "# MarkDown時間"
   ]
  },
  {
   "cell_type": "code",
   "execution_count": 16,
   "metadata": {},
   "outputs": [],
   "source": [
    "# 最大標題\n",
    "## 第二大標題\n",
    "### 第三大標題"
   ]
  },
  {
   "cell_type": "markdown",
   "metadata": {},
   "source": [
    "# 最大標題\n",
    "## 第二大標題\n",
    "### 第三大標題"
   ]
  },
  {
   "cell_type": "markdown",
   "metadata": {},
   "source": [
    "# 分點說明"
   ]
  },
  {
   "cell_type": "markdown",
   "metadata": {},
   "source": [
    "* 分點1\n",
    "* 分點2\n"
   ]
  },
  {
   "cell_type": "markdown",
   "metadata": {},
   "source": [
    "1. 有順序的分點\n",
    "1. 有順序的分點\n",
    "1. 有順序的分點(順序都打1也沒問題，jupyter跟markdown真的有在做事)"
   ]
  },
  {
   "cell_type": "markdown",
   "metadata": {},
   "source": [
    "# 做超連結"
   ]
  },
  {
   "cell_type": "markdown",
   "metadata": {},
   "source": [
    "[FB社團](https://www.facebook.com/groups/159902691120219/?sorting_setting=CHRONOLOGICAL)"
   ]
  },
  {
   "cell_type": "markdown",
   "metadata": {},
   "source": [
    "成品:\n",
    "[FB社團](https://www.facebook.com/groups/159902691120219/?sorting_setting=CHRONOLOGICAL)"
   ]
  },
  {
   "cell_type": "markdown",
   "metadata": {},
   "source": [
    "# 插入圖片"
   ]
  },
  {
   "cell_type": "code",
   "execution_count": 17,
   "metadata": {},
   "outputs": [
    {
     "name": "stderr",
     "output_type": "stream",
     "text": [
      "'[cozyman]' 不是內部或外部命令、可執行的程式或批次檔。\n"
     ]
    }
   ],
   "source": [
    "#在code模式中輸入檔名可以按 Tab自動填入，輸入完畢再改到 Markdown模式\n",
    "#範例：\n",
    "![cozyman](1.jpg)"
   ]
  },
  {
   "cell_type": "markdown",
   "metadata": {},
   "source": [
    "![cozyman](1.jpg)"
   ]
  },
  {
   "cell_type": "markdown",
   "metadata": {},
   "source": [
    "# 支援LaTeX\n"
   ]
  },
  {
   "cell_type": "markdown",
   "metadata": {},
   "source": [
    "我現在有一個函數 $f(x) = X^3 - 2x^2 + 5$\n",
    "$$L = \\int_a^b x^3 - 2x^2 + 5 \\, dx$$"
   ]
  },
  {
   "cell_type": "markdown",
   "metadata": {},
   "source": [
    "我現在有一個函數 $f(x) = X^3 - 2x^2 + 5$\n",
    "$$L = \\int_a^b x^3 - 2x^2 + 5 \\, dx$$"
   ]
  },
  {
   "cell_type": "markdown",
   "metadata": {},
   "source": [
    "## pi 時間"
   ]
  },
  {
   "cell_type": "code",
   "execution_count": 18,
   "metadata": {},
   "outputs": [],
   "source": [
    "#希臘符號PI怎麼打? 反斜線pi+tab\n",
    "π = np.pi"
   ]
  },
  {
   "cell_type": "code",
   "execution_count": 19,
   "metadata": {},
   "outputs": [
    {
     "data": {
      "text/plain": [
       "3.141592653589793"
      ]
     },
     "execution_count": 19,
     "metadata": {},
     "output_type": "execute_result"
    }
   ],
   "source": [
    "π"
   ]
  },
  {
   "cell_type": "markdown",
   "metadata": {},
   "source": [
    "# 真傳 - 朱比特互動"
   ]
  },
  {
   "cell_type": "code",
   "execution_count": 2,
   "metadata": {},
   "outputs": [],
   "source": [
    "#這是jupyter notebook提供的功能，需要import\n",
    "from ipywidgets import interact"
   ]
  },
  {
   "cell_type": "code",
   "execution_count": 3,
   "metadata": {},
   "outputs": [],
   "source": [
    "#以簡單的 print為例，但我們需要額外自訂一個 print function才能 interact\n",
    "def p(x):\n",
    "    print(x)"
   ]
  },
  {
   "cell_type": "code",
   "execution_count": 4,
   "metadata": {},
   "outputs": [
    {
     "data": {
      "application/vnd.jupyter.widget-view+json": {
       "model_id": "5cce311f80804a69bd58c2f009083007",
       "version_major": 2,
       "version_minor": 0
      },
      "text/plain": [
       "interactive(children=(IntSlider(value=10, description='x', max=30, min=-10), Output()), _dom_classes=('widget-…"
      ]
     },
     "metadata": {},
     "output_type": "display_data"
    },
    {
     "data": {
      "text/plain": [
       "<function __main__.p(x)>"
      ]
     },
     "execution_count": 4,
     "metadata": {},
     "output_type": "execute_result"
    }
   ],
   "source": [
    "#用法如下，記得參數名稱要一樣，資料型態如果是「整數」\n",
    "interact(p, x=10)"
   ]
  },
  {
   "cell_type": "code",
   "execution_count": 5,
   "metadata": {},
   "outputs": [
    {
     "data": {
      "application/vnd.jupyter.widget-view+json": {
       "model_id": "7b07b47ac31e4fd495d8fd3b0631d63a",
       "version_major": 2,
       "version_minor": 0
      },
      "text/plain": [
       "interactive(children=(FloatSlider(value=10.0, description='x', max=30.0, min=-10.0), Output()), _dom_classes=(…"
      ]
     },
     "metadata": {},
     "output_type": "display_data"
    },
    {
     "data": {
      "text/plain": [
       "<function __main__.p(x)>"
      ]
     },
     "execution_count": 5,
     "metadata": {},
     "output_type": "execute_result"
    }
   ],
   "source": [
    "#參數型態如果是「浮點數」\n",
    "interact(p, x=10.)"
   ]
  },
  {
   "cell_type": "code",
   "execution_count": 6,
   "metadata": {},
   "outputs": [
    {
     "data": {
      "application/vnd.jupyter.widget-view+json": {
       "model_id": "267c7cedb82d4683be448c1a842c5eb4",
       "version_major": 2,
       "version_minor": 0
      },
      "text/plain": [
       "interactive(children=(Text(value='yo', description='x'), Output()), _dom_classes=('widget-interact',))"
      ]
     },
     "metadata": {},
     "output_type": "display_data"
    },
    {
     "data": {
      "text/plain": [
       "<function __main__.p(x)>"
      ]
     },
     "execution_count": 6,
     "metadata": {},
     "output_type": "execute_result"
    }
   ],
   "source": [
    "#參數型態如果是「字串」\n",
    "interact(p, x='yo')"
   ]
  },
  {
   "cell_type": "code",
   "execution_count": 7,
   "metadata": {},
   "outputs": [
    {
     "data": {
      "application/vnd.jupyter.widget-view+json": {
       "model_id": "cde2cae14795408c9762af71187d013e",
       "version_major": 2,
       "version_minor": 0
      },
      "text/plain": [
       "interactive(children=(Dropdown(description='x', options=(1, 2, 3, 4, 5), value=1), Output()), _dom_classes=('w…"
      ]
     },
     "metadata": {},
     "output_type": "display_data"
    },
    {
     "data": {
      "text/plain": [
       "<function __main__.p(x)>"
      ]
     },
     "execution_count": 7,
     "metadata": {},
     "output_type": "execute_result"
    }
   ],
   "source": [
    "#參數型態如果是「串列」\n",
    "interact(p, x=[1,2,3,4,5])"
   ]
  },
  {
   "cell_type": "code",
   "execution_count": 8,
   "metadata": {},
   "outputs": [
    {
     "data": {
      "application/vnd.jupyter.widget-view+json": {
       "model_id": "3fed49a4aaf94af78ef78dcade81b108",
       "version_major": 2,
       "version_minor": 0
      },
      "text/plain": [
       "interactive(children=(Dropdown(description='x', options={'Batman': 'Bruce Wayne', 'Catwoman': 'Selina Kyle', '…"
      ]
     },
     "metadata": {},
     "output_type": "display_data"
    },
    {
     "data": {
      "text/plain": [
       "<function __main__.p(x)>"
      ]
     },
     "execution_count": 8,
     "metadata": {},
     "output_type": "execute_result"
    }
   ],
   "source": [
    "#參數型態如果是「字典」\n",
    "interact(p, x={'Batman':'Bruce Wayne','Catwoman':'Selina Kyle','Robin':'Dick Grayson'})"
   ]
  },
  {
   "cell_type": "markdown",
   "metadata": {},
   "source": [
    "## 畫圖也能這樣搞"
   ]
  },
  {
   "cell_type": "code",
   "execution_count": 17,
   "metadata": {},
   "outputs": [],
   "source": [
    "def draw(x):\n",
    "    dx = np.linspace(0,10,50)\n",
    "    dy = np.sin(dx) + dx*x\n",
    "    plt.plot(dx,dy)"
   ]
  },
  {
   "cell_type": "code",
   "execution_count": 21,
   "metadata": {},
   "outputs": [
    {
     "data": {
      "application/vnd.jupyter.widget-view+json": {
       "model_id": "c23c2c7032d541a295cc2a6b4c4bedd5",
       "version_major": 2,
       "version_minor": 0
      },
      "text/plain": [
       "interactive(children=(FloatSlider(value=0.5, description='x', max=1.5, min=-0.5), Output()), _dom_classes=('wi…"
      ]
     },
     "metadata": {},
     "output_type": "display_data"
    },
    {
     "data": {
      "text/plain": [
       "<function __main__.draw(x)>"
      ]
     },
     "execution_count": 21,
     "metadata": {},
     "output_type": "execute_result"
    }
   ],
   "source": [
    "interact(draw, x = 0.5)"
   ]
  },
  {
   "cell_type": "markdown",
   "metadata": {},
   "source": [
    "## 互動小遊戲"
   ]
  },
  {
   "cell_type": "code",
   "execution_count": 29,
   "metadata": {},
   "outputs": [],
   "source": [
    "def move(x=0):\n",
    "    print(' '*x +'費拉沙發')"
   ]
  },
  {
   "cell_type": "code",
   "execution_count": 30,
   "metadata": {},
   "outputs": [
    {
     "data": {
      "application/vnd.jupyter.widget-view+json": {
       "model_id": "2fcc6f0efd35424ab836505f99c9cb74",
       "version_major": 2,
       "version_minor": 0
      },
      "text/plain": [
       "interactive(children=(IntSlider(value=0, description='x', max=50), Output()), _dom_classes=('widget-interact',…"
      ]
     },
     "metadata": {},
     "output_type": "display_data"
    },
    {
     "data": {
      "text/plain": [
       "<function __main__.move(x=0)>"
      ]
     },
     "execution_count": 30,
     "metadata": {},
     "output_type": "execute_result"
    }
   ],
   "source": [
    "#參數用 tuple可以訂範圍\n",
    "interact(move, x=(0,50))"
   ]
  },
  {
   "cell_type": "code",
   "execution_count": 31,
   "metadata": {},
   "outputs": [
    {
     "data": {
      "application/vnd.jupyter.widget-view+json": {
       "model_id": "863aad8baf2b481e95db696d28174aa5",
       "version_major": 2,
       "version_minor": 0
      },
      "text/plain": [
       "interactive(children=(IntSlider(value=0, description='x', max=50), Output()), _dom_classes=('widget-interact',…"
      ]
     },
     "metadata": {},
     "output_type": "display_data"
    }
   ],
   "source": [
    "#程式碼最後加上分號，可以隱藏 output\n",
    "interact(move, x=(0,50));"
   ]
  },
  {
   "cell_type": "markdown",
   "metadata": {},
   "source": [
    "## 朱比特互動2"
   ]
  },
  {
   "cell_type": "code",
   "execution_count": 32,
   "metadata": {},
   "outputs": [],
   "source": [
    "from ipywidgets import interact_manual as i_m"
   ]
  },
  {
   "cell_type": "code",
   "execution_count": 33,
   "metadata": {},
   "outputs": [
    {
     "data": {
      "application/vnd.jupyter.widget-view+json": {
       "model_id": "a8520f5846634262a1a2c635f6744a6f",
       "version_major": 2,
       "version_minor": 0
      },
      "text/plain": [
       "interactive(children=(Text(value='拍拍幹', description='x'), Button(description='Run Interact', style=ButtonStyle…"
      ]
     },
     "metadata": {},
     "output_type": "display_data"
    },
    {
     "data": {
      "text/plain": [
       "<function __main__.p(x)>"
      ]
     },
     "execution_count": 33,
     "metadata": {},
     "output_type": "execute_result"
    }
   ],
   "source": [
    "i_m(p, x='拍拍幹')"
   ]
  },
  {
   "cell_type": "code",
   "execution_count": null,
   "metadata": {},
   "outputs": [],
   "source": []
  },
  {
   "cell_type": "markdown",
   "metadata": {},
   "source": [
    "# 第一周作業"
   ]
  },
  {
   "cell_type": "code",
   "execution_count": 34,
   "metadata": {},
   "outputs": [],
   "source": [
    "x1 = np.linspace(-10,10,30)\n",
    "y1 = abs(x1)"
   ]
  },
  {
   "cell_type": "code",
   "execution_count": 35,
   "metadata": {},
   "outputs": [
    {
     "data": {
      "text/plain": [
       "[<matplotlib.lines.Line2D at 0x208efeeb5c0>]"
      ]
     },
     "execution_count": 35,
     "metadata": {},
     "output_type": "execute_result"
    },
    {
     "data": {
      "image/png": "[encoded data removed]",
      "text/plain": [
       "<Figure size 432x288 with 1 Axes>"
      ]
     },
     "metadata": {},
     "output_type": "display_data"
    }
   ],
   "source": [
    "plt.plot(x1,y1,'v')"
   ]
  },
  {
   "cell_type": "markdown",
   "metadata": {},
   "source": [
    "# 第二周作業"
   ]
  },
  {
   "cell_type": "markdown",
   "metadata": {
    "collapsed": true
   },
   "source": [
    "## 尬聊機器人"
   ]
  },
  {
   "cell_type": "code",
   "execution_count": 36,
   "metadata": {},
   "outputs": [
    {
     "name": "stdout",
     "output_type": "stream",
     "text": [
      "歡迎來到尬聊機器人....\n",
      "\n",
      "<準備開始尬聊，輸入bye離開聊天>\n",
      "\n",
      "你：bye\n"
     ]
    }
   ],
   "source": [
    "msgs = ['阿是干我..','...','恩恩','我覺得不行','齁齁','天氣不錯','是喔哈哈','真的','蛤?!','先別管這個了，你有零錢嗎?','不就好棒棒','ㄏㄏ',':>']\n",
    "\n",
    "print('歡迎來到尬聊機器人....')\n",
    "print('\\n<準備開始尬聊，輸入bye離開聊天>\\n')\n",
    "\n",
    "while True:\n",
    "    text = input('你：')\n",
    "    if 'bye' in text:\n",
    "        break\n",
    "    msg = np.random.choice(msgs)\n",
    "    print('機器人：'+ msg)\n",
    "    "
   ]
  },
  {
   "cell_type": "markdown",
   "metadata": {
    "collapsed": true
   },
   "source": [
    "## 拉霸機"
   ]
  },
  {
   "cell_type": "code",
   "execution_count": 1,
   "metadata": {},
   "outputs": [
    {
     "name": "stdout",
     "output_type": "stream",
     "text": [
      "【規則說明】\n",
      "你正想花花口袋中的錢，這時一台拉霸出現在你眼前，你有勇氣下注、有膽識拉下搖桿嗎？\n",
      "如果有，快來體驗那股刺激感吧！\n",
      "[只要紅點連成一線就能賺到五倍賭金]\n",
      "\n",
      "目前賭注 250 ,你有 1000 元\n",
      "你想做什麼？ Enter:拉霸！ 1:更改賭注 2:不玩了   >>\n"
     ]
    },
    {
     "ename": "NameError",
     "evalue": "name 'np' is not defined",
     "output_type": "error",
     "traceback": [
      "\u001b[1;31m---------------------------------------------------------------------------\u001b[0m",
      "\u001b[1;31mNameError\u001b[0m                                 Traceback (most recent call last)",
      "\u001b[1;32m<ipython-input-1-18fbb94557a5>\u001b[0m in \u001b[0;36m<module>\u001b[1;34m\u001b[0m\n\u001b[0;32m     30\u001b[0m         \u001b[1;32mif\u001b[0m \u001b[0mmoney\u001b[0m \u001b[1;33m>=\u001b[0m \u001b[0mbet\u001b[0m\u001b[1;33m:\u001b[0m\u001b[1;33m\u001b[0m\u001b[1;33m\u001b[0m\u001b[0m\n\u001b[0;32m     31\u001b[0m             \u001b[0mmoney\u001b[0m \u001b[1;33m-=\u001b[0m \u001b[0mbet\u001b[0m\u001b[1;33m\u001b[0m\u001b[1;33m\u001b[0m\u001b[0m\n\u001b[1;32m---> 32\u001b[1;33m             \u001b[0mp\u001b[0m \u001b[1;33m=\u001b[0m \u001b[0mplay\u001b[0m\u001b[1;33m(\u001b[0m\u001b[1;33m)\u001b[0m\u001b[1;33m\u001b[0m\u001b[1;33m\u001b[0m\u001b[0m\n\u001b[0m\u001b[0;32m     33\u001b[0m             \u001b[1;32mif\u001b[0m \u001b[0mp\u001b[0m \u001b[1;33m==\u001b[0m \u001b[1;34m'win'\u001b[0m\u001b[1;33m:\u001b[0m\u001b[1;33m\u001b[0m\u001b[1;33m\u001b[0m\u001b[0m\n\u001b[0;32m     34\u001b[0m                 \u001b[0mprint\u001b[0m\u001b[1;33m(\u001b[0m\u001b[1;34m'【恭喜中獎】'\u001b[0m\u001b[1;33m)\u001b[0m\u001b[1;33m\u001b[0m\u001b[1;33m\u001b[0m\u001b[0m\n",
      "\u001b[1;32m<ipython-input-1-18fbb94557a5>\u001b[0m in \u001b[0;36mplay\u001b[1;34m()\u001b[0m\n\u001b[0;32m      4\u001b[0m \u001b[1;33m\u001b[0m\u001b[0m\n\u001b[0;32m      5\u001b[0m \u001b[1;32mdef\u001b[0m \u001b[0mplay\u001b[0m\u001b[1;33m(\u001b[0m\u001b[1;33m)\u001b[0m\u001b[1;33m:\u001b[0m\u001b[1;33m\u001b[0m\u001b[1;33m\u001b[0m\u001b[0m\n\u001b[1;32m----> 6\u001b[1;33m     \u001b[0mgx\u001b[0m \u001b[1;33m=\u001b[0m \u001b[0mnp\u001b[0m\u001b[1;33m.\u001b[0m\u001b[0mlinspace\u001b[0m\u001b[1;33m(\u001b[0m\u001b[1;36m1\u001b[0m\u001b[1;33m,\u001b[0m\u001b[1;36m2\u001b[0m\u001b[1;33m,\u001b[0m\u001b[1;36m3\u001b[0m\u001b[1;33m)\u001b[0m\u001b[1;33m\u001b[0m\u001b[1;33m\u001b[0m\u001b[0m\n\u001b[0m\u001b[0;32m      7\u001b[0m     \u001b[0mgy\u001b[0m \u001b[1;33m=\u001b[0m \u001b[0mnp\u001b[0m\u001b[1;33m.\u001b[0m\u001b[0mrandom\u001b[0m\u001b[1;33m.\u001b[0m\u001b[0mrandint\u001b[0m\u001b[1;33m(\u001b[0m\u001b[1;36m1\u001b[0m\u001b[1;33m,\u001b[0m\u001b[1;36m4\u001b[0m\u001b[1;33m,\u001b[0m\u001b[1;36m3\u001b[0m\u001b[1;33m)\u001b[0m\u001b[1;33m\u001b[0m\u001b[1;33m\u001b[0m\u001b[0m\n\u001b[0;32m      8\u001b[0m     \u001b[0mplt\u001b[0m\u001b[1;33m.\u001b[0m\u001b[0mfigure\u001b[0m\u001b[1;33m(\u001b[0m\u001b[0mfacecolor\u001b[0m\u001b[1;33m=\u001b[0m\u001b[1;34m'yellow'\u001b[0m\u001b[1;33m)\u001b[0m\u001b[1;33m\u001b[0m\u001b[1;33m\u001b[0m\u001b[0m\n",
      "\u001b[1;31mNameError\u001b[0m: name 'np' is not defined"
     ]
    }
   ],
   "source": [
    "money = 1000\n",
    "highest = 1000\n",
    "bet = 250\n",
    "\n",
    "def play():\n",
    "    gx = np.linspace(1,2,3)\n",
    "    gy = np.random.randint(1,4,3)\n",
    "    plt.figure(facecolor='yellow')\n",
    "    plt.title(\"SLOT MACHINE\", color='green')\n",
    "    plt.ylim(0.6,3.5)\n",
    "    plt.axis('off')\n",
    "    plt.scatter(gx,gy,s=3500,color='red');\n",
    "    plt.show()\n",
    "    sy = np.sum(gy)\n",
    "    if sy == 3 or sy == 6 and gy[1]==2 or sy == 9:\n",
    "        return 'win'\n",
    "    else:\n",
    "        return 'lose'\n",
    "    \n",
    "print('【規則說明】\\n你正想花花口袋中的錢，這時一台拉霸出現在你眼前，你有勇氣下注、有膽識拉下搖桿嗎？\\n如果有，快來體驗那股刺激感吧！\\n[只要紅點連成一線就能賺到五倍賭金]')\n",
    "while True:\n",
    "    print('\\n目前賭注',bet,',你有',money,'元')\n",
    "    move = input('你想做什麼？ Enter:拉霸！ 1:更改賭注 2:不玩了   >>')\n",
    "    if move == '1':\n",
    "        bet = int(input('想把賭注換成多少？'))\n",
    "    elif move == '2':\n",
    "        print('\\nGame Over!')\n",
    "        break\n",
    "    else:\n",
    "        if money >= bet:\n",
    "            money -= bet\n",
    "            p = play()\n",
    "            if p == 'win':\n",
    "                print('【恭喜中獎】')\n",
    "                money += bet*5\n",
    "                if money > highest:\n",
    "                    highest = money\n",
    "            elif p == 'lose':\n",
    "                print('【銘謝惠顧】')\n",
    "                if money == 0:\n",
    "                    print('\\n錢花光了! Game Over!')\n",
    "                    break\n",
    "        else:\n",
    "            print('【錢不夠啦】')\n",
    "\n",
    "print('【您的最高分：',highest,'】')"
   ]
  },
  {
   "cell_type": "code",
   "execution_count": null,
   "metadata": {},
   "outputs": [],
   "source": []
  },
  {
   "cell_type": "code",
   "execution_count": null,
   "metadata": {},
   "outputs": [],
   "source": []
  }
 ],
 "metadata": {
  "kernelspec": {
   "display_name": "Python 3",
   "language": "python",
   "name": "python3"
  },
  "language_info": {
   "codemirror_mode": {
    "name": "ipython",
    "version": 3
   },
   "file_extension": ".py",
   "mimetype": "text/x-python",
   "name": "python",
   "nbconvert_exporter": "python",
   "pygments_lexer": "ipython3",
   "version": "3.7.3"
  }
 },
 "nbformat": 4,
 "nbformat_minor": 2
}
