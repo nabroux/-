{
 "cells": [
  {
   "cell_type": "code",
   "execution_count": 1,
   "metadata": {
    "collapsed": true
   },
   "outputs": [],
   "source": [
    "L = ['333','1024','9487','20000']"
   ]
  },
  {
   "cell_type": "code",
   "execution_count": 2,
   "metadata": {
    "collapsed": true
   },
   "outputs": [],
   "source": [
    "def tentimes(n):\n",
    "    return 10 * n"
   ]
  },
  {
   "cell_type": "code",
   "execution_count": 3,
   "metadata": {},
   "outputs": [
    {
     "data": {
      "text/plain": [
       "110"
      ]
     },
     "execution_count": 3,
     "metadata": {},
     "output_type": "execute_result"
    }
   ],
   "source": [
    "tentimes(11)"
   ]
  },
  {
   "cell_type": "markdown",
   "metadata": {},
   "source": [
    "## map\n",
    "map(f,L) 把 函數f 作用到 list L中的每一個元素"
   ]
  },
  {
   "cell_type": "code",
   "execution_count": 4,
   "metadata": {},
   "outputs": [
    {
     "data": {
      "text/plain": [
       "['333333333333333333333333333333',\n",
       " '1024102410241024102410241024102410241024',\n",
       " '9487948794879487948794879487948794879487',\n",
       " '20000200002000020000200002000020000200002000020000']"
      ]
     },
     "execution_count": 4,
     "metadata": {},
     "output_type": "execute_result"
    }
   ],
   "source": [
    "list(map(tentimes, L))"
   ]
  },
  {
   "cell_type": "markdown",
   "metadata": {},
   "source": [
    "## lambda 簡單到太垃圾的簡單函數\n",
    "前面輸入後面輸出"
   ]
  },
  {
   "cell_type": "code",
   "execution_count": 5,
   "metadata": {},
   "outputs": [
    {
     "data": {
      "text/plain": [
       "9"
      ]
     },
     "execution_count": 5,
     "metadata": {},
     "output_type": "execute_result"
    }
   ],
   "source": [
    "g = lambda x:x**2\n",
    "g(3)"
   ]
  },
  {
   "cell_type": "code",
   "execution_count": 6,
   "metadata": {},
   "outputs": [
    {
     "data": {
      "text/plain": [
       "['333333333333333333333333333333',\n",
       " '1024102410241024102410241024102410241024',\n",
       " '9487948794879487948794879487948794879487',\n",
       " '20000200002000020000200002000020000200002000020000']"
      ]
     },
     "execution_count": 6,
     "metadata": {},
     "output_type": "execute_result"
    }
   ],
   "source": [
    "list(map(lambda p:p*10, L))"
   ]
  },
  {
   "cell_type": "code",
   "execution_count": null,
   "metadata": {
    "collapsed": true
   },
   "outputs": [],
   "source": []
  },
  {
   "cell_type": "markdown",
   "metadata": {},
   "source": [
    "# 作業區"
   ]
  },
  {
   "cell_type": "markdown",
   "metadata": {},
   "source": [
    "## 猜拳"
   ]
  },
  {
   "cell_type": "code",
   "execution_count": 2,
   "metadata": {},
   "outputs": [
    {
     "name": "stdout",
     "output_type": "stream",
     "text": [
      "來猜拳吧！\n",
      "1:剪刀 2:石頭 3:布  1\n",
      "電腦出了【剪刀】\n",
      "平手，再一次\n",
      "1:剪刀 2:石頭 3:布  2\n",
      "電腦出了【剪刀】\n",
      "你贏了\n"
     ]
    }
   ],
   "source": [
    "import random\n",
    "gesture = ['剪刀','石頭','布']\n",
    "\n",
    "print('來猜拳吧！')\n",
    "while True:\n",
    "    player = int(input('1:剪刀 2:石頭 3:布  '))\n",
    "    com = random.randint(1,3)\n",
    "    print('電腦出了【'+gesture[com-1]+'】')\n",
    "    if player == com:\n",
    "        print('平手，再一次')\n",
    "    elif player == com-1:\n",
    "        print('你輸了')\n",
    "        break\n",
    "    elif player == 3 and com == 1:\n",
    "        print('你輸了')\n",
    "        break\n",
    "    else:\n",
    "        print('你贏了')\n",
    "        break"
   ]
  },
  {
   "cell_type": "markdown",
   "metadata": {},
   "source": [
    "## 建築師巴布"
   ]
  },
  {
   "cell_type": "code",
   "execution_count": 84,
   "metadata": {},
   "outputs": [
    {
     "name": "stdout",
     "output_type": "stream",
     "text": [
      "巴布，今天的金字塔要蓋幾層呢？(最高64) 13\n",
      "            *\n",
      "           * *\n",
      "          * * *\n",
      "         * * * *\n",
      "        * * * * *\n",
      "       * * * * * *\n",
      "      * * * * * * *\n",
      "     * * * * * * * *\n",
      "    * * * * * * * * *\n",
      "   * * * * * * * * * *\n",
      "  * * * * * * * * * * *\n",
      " * * * * * * * * * * * *\n",
      "* * * * * * * * * * * * *\n",
      "\n"
     ]
    }
   ],
   "source": [
    "n = int(input('巴布，今天的金字塔要蓋幾層呢？(最高64) '))\n",
    "res = ''\n",
    "for i in range(1, n+1):\n",
    "    res += (n-i) * ' ' + '*' + ' *' * (i-1) + '\\n'\n",
    "print(res)"
   ]
  },
  {
   "cell_type": "markdown",
   "metadata": {},
   "source": [
    "## 情趣骰子\n",
    "⚀ ⚁ ⚂ ⚃ ⚄ ⚅"
   ]
  },
  {
   "cell_type": "code",
   "execution_count": 3,
   "metadata": {},
   "outputs": [
    {
     "name": "stdout",
     "output_type": "stream",
     "text": [
      "歡迎光臨情趣骰子\n",
      "按下Enter擲骰子，輸入其他字元即可結束： \n",
      "\n",
      "【咬咬肚臍】\n",
      "\n",
      "按下Enter擲骰子，輸入其他字元即可結束： \n",
      "\n",
      "【親親咪咪】\n",
      "\n",
      "按下Enter擲骰子，輸入其他字元即可結束： \n",
      "\n",
      "【摸摸脖子】\n",
      "\n",
      "按下Enter擲骰子，輸入其他字元即可結束： \n",
      "\n",
      "【舔舔耳朵】\n",
      "\n",
      "按下Enter擲骰子，輸入其他字元即可結束： 真的很情趣\n",
      "bye bye\n"
     ]
    }
   ],
   "source": [
    "import random\n",
    "move_dice = ['親親','摸摸','聞聞','舔舔','咬咬','吹吹']\n",
    "body_dice = ['耳朵','嘴唇','咪咪','屁股','脖子','肚臍']\n",
    "\n",
    "print('歡迎光臨情趣骰子')\n",
    "while True:\n",
    "    enter = input('按下Enter擲骰子，輸入其他字元即可結束： ')\n",
    "    if enter == '':\n",
    "        print('\\n【'+random.choice(move_dice)+random.choice(body_dice)+'】\\n')\n",
    "    else:\n",
    "        print('bye bye')\n",
    "        break"
   ]
  },
  {
   "cell_type": "markdown",
   "metadata": {
    "collapsed": true
   },
   "source": [
    "## 年輕人的台北買房夢"
   ]
  },
  {
   "cell_type": "code",
   "execution_count": 4,
   "metadata": {},
   "outputs": [
    {
     "name": "stdout",
     "output_type": "stream",
     "text": [
      "年輕人，現在一個月大概賺多少呢？ 22000\n",
      "想在台北哪一區買房呢？ 文山區\n",
      "這樣的話，那你想買幾坪大的房子呢？ 35\n",
      "原來如此！經過我的估算，你只要不吃不喝 66 年，買房就沒問題了耶，加油！\n"
     ]
    }
   ],
   "source": [
    "housePrice = {\n",
    "    '大安區':850000,\n",
    "    '信義區':750000,\n",
    "    '中正區':765000,\n",
    "    '文山區':500000,\n",
    "    '萬華區':480000,\n",
    "    '北投區':580000,\n",
    "    '士林區':520000,\n",
    "    '松山區':710000,\n",
    "    '中山區':650000,\n",
    "    '內湖區':550000,\n",
    "    '南港區':570000,\n",
    "    '大同區':520000,\n",
    "}\n",
    "\n",
    "salary = int(input('年輕人，現在一個月大概賺多少呢？ '))\n",
    "location = input('想在台北哪一區買房呢？ ')\n",
    "sq = int(input('這樣的話，那你想買幾坪大的房子呢？ '))\n",
    "price = sq * housePrice[location]\n",
    "print('原來如此！經過我的估算，你只要不吃不喝',int(price/salary/12),'年，買房就沒問題了耶，加油！')"
   ]
  },
  {
   "cell_type": "code",
   "execution_count": null,
   "metadata": {
    "collapsed": true
   },
   "outputs": [],
   "source": []
  }
 ],
 "metadata": {
  "kernelspec": {
   "display_name": "Python 3",
   "language": "python",
   "name": "python3"
  },
  "language_info": {
   "codemirror_mode": {
    "name": "ipython",
    "version": 3
   },
   "file_extension": ".py",
   "mimetype": "text/x-python",
   "name": "python",
   "nbconvert_exporter": "python",
   "pygments_lexer": "ipython3",
   "version": "3.7.3"
  }
 },
 "nbformat": 4,
 "nbformat_minor": 2
}
