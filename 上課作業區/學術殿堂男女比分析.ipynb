{
 "cells": [
  {
   "cell_type": "markdown",
   "metadata": {},
   "source": [
    "# 105306076 資管四 許雲輔 大學男女人數資訊の分析與查詢\n",
    "\n",
    "#### 分析各大專校院的各級男女人數資訊，最後可以用互動查詢!"
   ]
  },
  {
   "cell_type": "code",
   "execution_count": 7,
   "metadata": {},
   "outputs": [],
   "source": [
    "%matplotlib inline\n",
    "import numpy as np\n",
    "import pandas as pd\n",
    "import matplotlib.pyplot as plt"
   ]
  },
  {
   "cell_type": "code",
   "execution_count": 8,
   "metadata": {},
   "outputs": [],
   "source": [
    "url = 'http://stats.moe.gov.tw/files/detail/107/107_student.csv'\n",
    "df = pd.read_csv(url)"
   ]
  },
  {
   "cell_type": "code",
   "execution_count": 9,
   "metadata": {},
   "outputs": [],
   "source": [
    "df.loc[:,'一年級男生':'延修生女生'] = df.loc[:,'一年級男生':'延修生女生'].apply(lambda x: x.replace('-','0')).astype('int')\n",
    "\n",
    "df['男生人數'] = df.一年級男生 + df.二年級男生 + df.三年級男生 + df.四年級男生 + df.五年級男生 + df.六年級男生 + df.七年級男生 + df.延修生男生\n",
    "df['女生人數'] = df.一年級女生 + df.二年級女生 + df.三年級女生 + df.四年級女生 + df.五年級女生 + df.六年級女生 + df.七年級女生 + df.延修生女生\n"
   ]
  },
  {
   "cell_type": "code",
   "execution_count": 10,
   "metadata": {},
   "outputs": [],
   "source": [
    "schools = df.groupby('學校名稱')\n",
    "df_rank = pd.DataFrame(columns=['男生人數', '女生人數', '總人數','男生比例','女生比例'])\n",
    "for name, group in schools:\n",
    "    male_quantity = group['男生人數'].sum()\n",
    "    female_quantity = group['女生人數'].sum()\n",
    "    all_quantity = male_quantity + female_quantity\n",
    "    male_ratio = male_quantity / all_quantity\n",
    "    female_ratio = female_quantity / all_quantity\n",
    "    new_data = [male_quantity, female_quantity, all_quantity, male_ratio, female_ratio]\n",
    "    df_rank.loc[name] = new_data"
   ]
  },
  {
   "cell_type": "markdown",
   "metadata": {},
   "source": [
    "# 互動查詢區"
   ]
  },
  {
   "cell_type": "code",
   "execution_count": 11,
   "metadata": {},
   "outputs": [],
   "source": [
    "from ipywidgets import interact, interact_manual\n",
    "\n",
    "def ranking(_by):\n",
    "    global df_rank\n",
    "    df_rank = df_rank.sort_values(by=_by, ascending=False)\n",
    "    df_rank['排名'] = range(1, len(df_rank)+1)\n",
    "    display(df_rank)\n",
    "\n",
    "def searching(search):\n",
    "    global df_rank\n",
    "    result = df_rank.loc[search, '排名']\n",
    "    display(result)"
   ]
  },
  {
   "cell_type": "code",
   "execution_count": 12,
   "metadata": {
    "scrolled": true
   },
   "outputs": [
    {
     "data": {
      "application/vnd.jupyter.widget-view+json": {
       "model_id": "23b162b50b6c41e7b5bc4ff6ba4d742f",
       "version_major": 2,
       "version_minor": 0
      },
      "text/plain": [
       "interactive(children=(Text(value='輸入學校全名', description='search'), Button(description='Run Interact', style=But…"
      ]
     },
     "metadata": {},
     "output_type": "display_data"
    },
    {
     "data": {
      "application/vnd.jupyter.widget-view+json": {
       "model_id": "0b9787ce4afd4b05b423f5981f065ea8",
       "version_major": 2,
       "version_minor": 0
      },
      "text/plain": [
       "interactive(children=(Dropdown(description='_by', options=('男生人數', '女生人數', '總人數', '男生比例', '女生比例'), value='男生人數…"
      ]
     },
     "metadata": {},
     "output_type": "display_data"
    },
    {
     "data": {
      "text/plain": [
       "<function __main__.ranking(_by)>"
      ]
     },
     "execution_count": 12,
     "metadata": {},
     "output_type": "execute_result"
    }
   ],
   "source": [
    "interact_manual(searching, search='輸入學校全名')\n",
    "interact(ranking, _by=['男生人數', '女生人數', '總人數','男生比例','女生比例'])"
   ]
  },
  {
   "cell_type": "code",
   "execution_count": null,
   "metadata": {},
   "outputs": [],
   "source": []
  }
 ],
 "metadata": {
  "kernelspec": {
   "display_name": "Python 3",
   "language": "python",
   "name": "python3"
  },
  "language_info": {
   "codemirror_mode": {
    "name": "ipython",
    "version": 3
   },
   "file_extension": ".py",
   "mimetype": "text/x-python",
   "name": "python",
   "nbconvert_exporter": "python",
   "pygments_lexer": "ipython3",
   "version": "3.7.3"
  }
 },
 "nbformat": 4,
 "nbformat_minor": 2
}
