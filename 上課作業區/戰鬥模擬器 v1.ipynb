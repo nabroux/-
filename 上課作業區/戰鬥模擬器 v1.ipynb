{
 "cells": [
  {
   "cell_type": "markdown",
   "metadata": {},
   "source": [
    "# 105306076 資管四 許雲輔 戰鬥模擬器_v1"
   ]
  },
  {
   "cell_type": "code",
   "execution_count": 1,
   "metadata": {},
   "outputs": [
    {
     "name": "stdout",
     "output_type": "stream",
     "text": [
      "歡迎來到1v1戰鬥模擬器\n",
      "請輸入玩家1名稱： Batman\n",
      "請輸入玩家2名稱： Joker\n",
      "【戰鬥開始】\n",
      "Joker對Batman發動了攻擊!\n",
      "對Batman造成了133點傷害\n",
      "【Batman生命值:867】 【Joker生命值:1000】\n",
      "\n",
      "Joker對Batman發動了攻擊!\n",
      "對Batman造成了82點傷害\n",
      "【Batman生命值:785】 【Joker生命值:1000】\n",
      "\n",
      "Joker對Batman發動了攻擊!\n",
      "對Batman造成了146點傷害\n",
      "【Batman生命值:639】 【Joker生命值:1000】\n",
      "\n",
      "Joker對Batman發動了攻擊!\n",
      "對Batman造成了72點傷害\n",
      "【Batman生命值:567】 【Joker生命值:1000】\n",
      "\n",
      "Joker對Batman發動了攻擊!\n",
      "Batman成功閃躲!\n",
      "【Batman生命值:567】 【Joker生命值:1000】\n",
      "\n",
      "Joker對Batman發動了攻擊!\n",
      "對Batman造成了87點傷害\n",
      "【Batman生命值:480】 【Joker生命值:1000】\n",
      "\n",
      "Joker對Batman發動了攻擊!\n",
      "Joker施展出了會心一擊！\n",
      "對Batman造成了286點傷害\n",
      "【Batman生命值:194】 【Joker生命值:1000】\n",
      "\n",
      "Batman對Joker發動了攻擊!\n",
      "對Joker造成了180點傷害\n",
      "【Batman生命值:194】 【Joker生命值:820】\n",
      "\n",
      "Joker對Batman發動了攻擊!\n",
      "Batman成功閃躲!\n",
      "【Batman生命值:194】 【Joker生命值:820】\n",
      "\n",
      "Batman對Joker發動了攻擊!\n",
      "對Joker造成了114點傷害\n",
      "【Batman生命值:194】 【Joker生命值:706】\n",
      "\n",
      "Batman對Joker發動了攻擊!\n",
      "對Joker造成了194點傷害\n",
      "【Batman生命值:194】 【Joker生命值:512】\n",
      "\n",
      "Batman對Joker發動了攻擊!\n",
      "Joker成功閃躲!\n",
      "【Batman生命值:194】 【Joker生命值:512】\n",
      "\n",
      "Batman對Joker發動了攻擊!\n",
      "對Joker造成了128點傷害\n",
      "【Batman生命值:194】 【Joker生命值:384】\n",
      "\n",
      "Joker對Batman發動了攻擊!\n",
      "Joker施展出了會心一擊！\n",
      "對Batman造成了220點傷害\n",
      "Batman陣亡！獲勝者是Joker\n"
     ]
    }
   ],
   "source": [
    "import random, time\n",
    "\n",
    "players = {}\n",
    "print('歡迎來到1v1戰鬥模擬器')\n",
    "player1 = input('請輸入玩家1名稱： ')\n",
    "player2 = input('請輸入玩家2名稱： ')\n",
    "players[player1],players[player2] = 1000,1000\n",
    "\n",
    "print('【戰鬥開始】')    \n",
    "while True:\n",
    "    time.sleep(random.randint(1,3))\n",
    "    attacker, defender = random.sample(list(players.keys()), 2)\n",
    "    print('{}對{}發動了攻擊!'.format(attacker, defender))\n",
    "    time.sleep(1)\n",
    "    attackProb = random.random()\n",
    "    if attackProb < 0.5:\n",
    "        damage = random.randint(50,200)\n",
    "        print('對{}造成了{}點傷害'.format(defender, damage))\n",
    "        players[defender] -= damage\n",
    "    elif attackProb < 0.65:\n",
    "        damage = random.randint(200,350)\n",
    "        print('{}施展出了會心一擊！'.format(attacker))\n",
    "        print('對{}造成了{}點傷害'.format(defender, damage))\n",
    "        players[defender] -= damage\n",
    "    else:\n",
    "        print('{}成功閃躲!'.format(defender))\n",
    "        \n",
    "    if players[defender] <= 0:\n",
    "        print('{}陣亡！獲勝者是{}'.format(defender, attacker))\n",
    "        break\n",
    "    print('【{}生命值:{}】 【{}生命值:{}】\\n'.format(player1, players[player1], player2, players[player2]))"
   ]
  }
 ],
 "metadata": {
  "kernelspec": {
   "display_name": "Python 3",
   "language": "python",
   "name": "python3"
  },
  "language_info": {
   "codemirror_mode": {
    "name": "ipython",
    "version": 3
   },
   "file_extension": ".py",
   "mimetype": "text/x-python",
   "name": "python",
   "nbconvert_exporter": "python",
   "pygments_lexer": "ipython3",
   "version": "3.7.3"
  }
 },
 "nbformat": 4,
 "nbformat_minor": 2
}
