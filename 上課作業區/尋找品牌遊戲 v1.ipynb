{
 "cells": [
  {
   "cell_type": "markdown",
   "metadata": {},
   "source": [
    "# 105306076 資管四 許雲輔 尋找品牌遊戲 v1"
   ]
  },
  {
   "cell_type": "code",
   "execution_count": 1,
   "metadata": {},
   "outputs": [
    {
     "name": "stdout",
     "output_type": "stream",
     "text": [
      "g v y w e u s q c x g z i h g\n",
      "i l u p m a q t j x u p x w w\n",
      "n p x r c d b y i z o z f s t\n",
      "g a z l n w k y q c g i k g r\n",
      "g z q y g n a v y t c n g z j\n",
      "c g n f d n a w y x v m w s k\n",
      "f z o a l m w m t k o p k t a\n",
      "x j s y k g t d e t d x w s f\n",
      "b c o a c h n k j i z z i q b\n",
      "z w j e n m m g d m k u q n j\n",
      "m d b t i i f i k b n u s g q\n",
      "d o z f p g g l j n y u d u q\n",
      "t d j s w h k w c v g o r l c\n",
      "c m m w d u u f v v t m s m m\n",
      "l a c p h s d f x i e e n o w\n",
      "找看看哪個品牌藏在其中吧!(只會是橫的)\n",
      "答案是：navy\n",
      "猜錯囉!答案是 coach\n"
     ]
    }
   ],
   "source": [
    "import random\n",
    "board = []\n",
    "alphabet = list('abcdefghijklmnopqrstuvwxyz')\n",
    "\n",
    "for i in range(15):\n",
    "    row = []\n",
    "    for j in range(15):\n",
    "        a = random.choice(alphabet)\n",
    "        row.append(a)\n",
    "    board.append(row)\n",
    "    \n",
    "answers = ['adidas', 'benz', 'coach', 'dior', 'gucci', 'fendi', 'chanel', 'puma', 'muji', 'uniqlo', 'starbucks', 'google']\n",
    "answer = random.choice(answers)\n",
    "\n",
    "if random.randint(1,2) == 1:\n",
    "    x = random.randint(0,15-len(answer))\n",
    "    y = random.randint(0,14)\n",
    "    board[y][x:x+len(answer)] = list(answer)\n",
    "\n",
    "for row in board:\n",
    "    print(' '.join(row))\n",
    "\n",
    "print('找看看哪個品牌藏在其中吧!(只會是橫的)')\n",
    "guess = input('答案是：')\n",
    "if guess == answer:\n",
    "    print('恭喜答對!!')\n",
    "else:\n",
    "    print('猜錯囉!答案是 '+ answer)\n"
   ]
  },
  {
   "cell_type": "code",
   "execution_count": null,
   "metadata": {},
   "outputs": [],
   "source": []
  }
 ],
 "metadata": {
  "kernelspec": {
   "display_name": "Python 3",
   "language": "python",
   "name": "python3"
  },
  "language_info": {
   "codemirror_mode": {
    "name": "ipython",
    "version": 3
   },
   "file_extension": ".py",
   "mimetype": "text/x-python",
   "name": "python",
   "nbconvert_exporter": "python",
   "pygments_lexer": "ipython3",
   "version": "3.7.3"
  }
 },
 "nbformat": 4,
 "nbformat_minor": 2
}
