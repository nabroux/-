{
 "cells": [
  {
   "cell_type": "markdown",
   "metadata": {},
   "source": [
    "# 105306076 資管四 許雲輔 尋找品牌遊戲 v1"
   ]
  },
  {
   "cell_type": "code",
   "execution_count": 17,
   "metadata": {},
   "outputs": [
    {
     "name": "stdout",
     "output_type": "stream",
     "text": [
      "u x e d a b n n d g c y m w w\n",
      "x n v h n y s h m y u z x z o\n",
      "a b n w a s x v c a m i f n t\n",
      "e h g l v y p g o o g l e f l\n",
      "n r i t q n n y k x e t s t k\n",
      "d f z f q p q v y g i m f w y\n",
      "k z b y f t w g s b k y l r m\n",
      "z z p w f e c s r t u j d b c\n",
      "u e k r i m e u r w i r u v d\n",
      "b q v e e z y m l v g p t v z\n",
      "w p u i j k c i d r i q d g s\n",
      "e t n z f p r x b x f e h o j\n",
      "x y j l k i e q k d w k d d f\n",
      "k x o q v w q o j y a f o t n\n",
      "t a d q t p o e i m y w a n t\n",
      "找看看哪個品牌藏在其中吧!(只會是橫的)\n",
      "答案是：google\n",
      "恭喜答對!!\n"
     ]
    }
   ],
   "source": [
    "import random\n",
    "board = []\n",
    "alphabet = list('abcdefghijklmnopqrstuvwxyz')\n",
    "\n",
    "for i in range(15):\n",
    "    row = []\n",
    "    for j in range(15):\n",
    "        a = random.choice(alphabet)\n",
    "        row.append(a)\n",
    "    board.append(row)\n",
    "    \n",
    "answers = ['adidas', 'benz', 'coach', 'dior', 'gucci', 'fendi', 'chanel', 'puma', 'muji', 'uniqlo', 'starbucks', 'google']\n",
    "answer = random.choice(answers)\n",
    "\n",
    "if random.randint(1,2) == 1:\n",
    "    x = random.randint(0,15-len(answer))\n",
    "    y = random.randint(0,14)\n",
    "    board[y][x:x+len(answer)] = list(answer)\n",
    "\n",
    "for row in board:\n",
    "    print(' '.join(row))\n",
    "\n",
    "print('找看看哪個品牌藏在其中吧!(只會是橫的)')\n",
    "guess = input('答案是：')\n",
    "if guess == answer:\n",
    "    print('恭喜答對!!')\n",
    "else:\n",
    "    print('猜錯囉!答案是 '+ answer)\n"
   ]
  }
 ],
 "metadata": {
  "kernelspec": {
   "display_name": "Python 3",
   "language": "python",
   "name": "python3"
  },
  "language_info": {
   "codemirror_mode": {
    "name": "ipython",
    "version": 3
   },
   "file_extension": ".py",
   "mimetype": "text/x-python",
   "name": "python",
   "nbconvert_exporter": "python",
   "pygments_lexer": "ipython3",
   "version": "3.7.3"
  }
 },
 "nbformat": 4,
 "nbformat_minor": 2
}
