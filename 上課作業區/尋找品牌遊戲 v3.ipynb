{
 "cells": [
  {
   "cell_type": "markdown",
   "metadata": {},
   "source": [
    "# 105306076 資管四 許雲輔 尋找品牌遊戲 v3"
   ]
  },
  {
   "cell_type": "code",
   "execution_count": 1,
   "metadata": {},
   "outputs": [
    {
     "name": "stdout",
     "output_type": "stream",
     "text": [
      "p y w x q r w g c l z t l e g\n",
      "o t y f p b r e u y i b i m r\n",
      "i y k j w m u d v k n g a l e\n",
      "f i c j y v s b e v i l y y q\n",
      "c f p i r e i f h r t w z c c\n",
      "t q o l y f f e v c u n t o d\n",
      "w x k i z l a w y p u z r p q\n",
      "r t h e h z b j s b w k q h b\n",
      "b a s z u a o f h y s c d c a\n",
      "j w n g l d k p z w c y d a e\n",
      "m p t q j y w z v a m m n n b\n",
      "a y u h q t l v a k r n x q y\n",
      "y p v b h s z l v s t l j k h\n",
      "c h x g c p a y i p i o n m r\n",
      "g b u y p c f g u a k a s u s\n",
      "找看看哪個品牌藏在其中吧!(字母順序只會是 左到右 或 上到下 )\n",
      "答案是：\n",
      "\n",
      "猜錯囉!答案是 asus\n",
      "p y w x q r w g c l z t l e g\n",
      "o t y f p b r e u y i b i m r\n",
      "i y k j w m u d v k n g a l e\n",
      "f i c j y v s b e v i l y y q\n",
      "c f p i r e i f h r t w z c c\n",
      "t q o l y f f e v c u n t o d\n",
      "w x k i z l a w y p u z r p q\n",
      "r t h e h z b j s b w k q h b\n",
      "b a s z u a o f h y s c d c a\n",
      "j w n g l d k p z w c y d a e\n",
      "m p t q j y w z v a m m n n b\n",
      "a y u h q t l v a k r n x q y\n",
      "y p v b h s z l v s t l j k h\n",
      "c h x g c p a y i p i o n m r\n",
      "g b u y p c f g u a k .A .S .U .S\n"
     ]
    }
   ],
   "source": [
    "import random, copy\n",
    "board = []\n",
    "ans_board = []\n",
    "alphabet = list('abcdefghijklmnopqrstuvwxyz')\n",
    "\n",
    "def displayBoard(board):\n",
    "    for row in board:\n",
    "        print(' '.join(row))\n",
    "\n",
    "for i in range(15):\n",
    "    row = []\n",
    "    for j in range(15):\n",
    "        a = random.choice(alphabet)\n",
    "        row.append(a)\n",
    "    board.append(row)\n",
    "    \n",
    "ans_board = copy.deepcopy(board)\n",
    "answers = ['adidas', 'benz', 'coach', 'dior', 'gucci', 'asus', 'chanel', 'puma', 'muji', 'uniqlo', 'starbucks', 'google']\n",
    "answer = random.choice(answers)\n",
    "\n",
    "if random.randint(1,2) == 1:\n",
    "    x = random.randint(0,15-len(answer))\n",
    "    y = random.randint(0,14)\n",
    "    board[y][x:x+len(answer)] = list(answer)\n",
    "    for i in range(len(answer)):\n",
    "        ans_board[y][x+i] = '.' + answer[i].upper()\n",
    "else:\n",
    "    x = random.randint(0,14)\n",
    "    y = random.randint(0,15-len(answer))\n",
    "    for i in range(len(answer)):\n",
    "        board[y+i][x] = answer[i]\n",
    "        ans_board[y+i][x] = '.' + answer[i].upper()\n",
    "\n",
    "displayBoard(board)\n",
    "print('找看看哪個品牌藏在其中吧!(字母順序只會是 左到右 或 上到下 )')\n",
    "guess = input('答案是：')\n",
    "if guess == answer:\n",
    "    print('\\n恭喜答對!!')\n",
    "else:\n",
    "    print('\\n猜錯囉!答案是 '+ answer)\n",
    "displayBoard(ans_board)"
   ]
  }
 ],
 "metadata": {
  "kernelspec": {
   "display_name": "Python 3",
   "language": "python",
   "name": "python3"
  },
  "language_info": {
   "codemirror_mode": {
    "name": "ipython",
    "version": 3
   },
   "file_extension": ".py",
   "mimetype": "text/x-python",
   "name": "python",
   "nbconvert_exporter": "python",
   "pygments_lexer": "ipython3",
   "version": "3.7.3"
  }
 },
 "nbformat": 4,
 "nbformat_minor": 2
}
