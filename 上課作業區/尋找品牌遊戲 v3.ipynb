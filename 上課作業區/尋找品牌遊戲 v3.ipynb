{
 "cells": [
  {
   "cell_type": "markdown",
   "metadata": {},
   "source": [
    "# 105306076 資管四 許雲輔 尋找品牌遊戲 v3\n",
    "#### 這次多了公布解答的功能"
   ]
  },
  {
   "cell_type": "code",
   "execution_count": 1,
   "metadata": {},
   "outputs": [
    {
     "name": "stdout",
     "output_type": "stream",
     "text": [
      "p l f l y o u d c o a q a i t\n",
      "e j i y x x s w t k q l u d y\n",
      "c d a n e q f x i m o i n q a\n",
      "w m e h p l d i b l o z k m i\n",
      "h v f u u e a d m f c n n w i\n",
      "u s e p y r t r v z j i k q k\n",
      "k o s s u s m w w t x h h p i\n",
      "u g k t t b e j x u q i i e e\n",
      "b c g a r j h f o g g d d h m\n",
      "m j l r o o k k z k k x u k q\n",
      "a a z b x s q b i v e m n c i\n",
      "k o p u i c e o a d n n e q x\n",
      "h j e c r i d g f c y m q l v\n",
      "r x n k t l z q x r z p t e u\n",
      "z g t s c f w r m x p r g x c\n",
      "找看看哪個品牌藏在其中吧!(字母順序只會是 左到右 或 上到下 )\n",
      "答案是：\n",
      "\n",
      "猜錯囉!答案是 starbucks\n",
      "p l f l y o u d c o a q a i t\n",
      "e j i y x x s w t k q l u d y\n",
      "c d a n e q f x i m o i n q a\n",
      "w m e h p l d i b l o z k m i\n",
      "h v f u u e a d m f c n n w i\n",
      "u s e p y r t r v z j i k q k\n",
      "k o s .S u s m w w t x h h p i\n",
      "u g k .T t b e j x u q i i e e\n",
      "b c g .A r j h f o g g d d h m\n",
      "m j l .R o o k k z k k x u k q\n",
      "a a z .B x s q b i v e m n c i\n",
      "k o p .U i c e o a d n n e q x\n",
      "h j e .C r i d g f c y m q l v\n",
      "r x n .K t l z q x r z p t e u\n",
      "z g t .S c f w r m x p r g x c\n"
     ]
    }
   ],
   "source": [
    "import random, copy\n",
    "board = []\n",
    "ans_board = []\n",
    "alphabet = list('abcdefghijklmnopqrstuvwxyz')\n",
    "\n",
    "def displayBoard(board):\n",
    "    for row in board:\n",
    "        print(' '.join(row))\n",
    "\n",
    "for i in range(15):\n",
    "    row = []\n",
    "    for j in range(15):\n",
    "        a = random.choice(alphabet)\n",
    "        row.append(a)\n",
    "    board.append(row)\n",
    "    \n",
    "ans_board = copy.deepcopy(board)\n",
    "answers = ['adidas', 'benz', 'coach', 'dior', 'gucci', 'asus', 'chanel', 'puma', 'muji', 'uniqlo', 'starbucks', 'google']\n",
    "answer = random.choice(answers)\n",
    "\n",
    "if random.randint(1,2) == 1:\n",
    "    x = random.randint(0,15-len(answer))\n",
    "    y = random.randint(0,14)\n",
    "    board[y][x:x+len(answer)] = list(answer)\n",
    "    for i in range(len(answer)):\n",
    "        ans_board[y][x+i] = '.' + answer[i].upper()\n",
    "else:\n",
    "    x = random.randint(0,14)\n",
    "    y = random.randint(0,15-len(answer))\n",
    "    for i in range(len(answer)):\n",
    "        board[y+i][x] = answer[i]\n",
    "        ans_board[y+i][x] = '.' + answer[i].upper()\n",
    "\n",
    "displayBoard(board)\n",
    "print('找看看哪個品牌藏在其中吧!(字母順序只會是 左到右 或 上到下 )')\n",
    "guess = input('答案是：')\n",
    "if guess == answer:\n",
    "    print('\\n恭喜答對!!')\n",
    "else:\n",
    "    print('\\n猜錯囉!答案是 '+ answer)\n",
    "displayBoard(ans_board)"
   ]
  }
 ],
 "metadata": {
  "kernelspec": {
   "display_name": "Python 3",
   "language": "python",
   "name": "python3"
  },
  "language_info": {
   "codemirror_mode": {
    "name": "ipython",
    "version": 3
   },
   "file_extension": ".py",
   "mimetype": "text/x-python",
   "name": "python",
   "nbconvert_exporter": "python",
   "pygments_lexer": "ipython3",
   "version": "3.7.3"
  }
 },
 "nbformat": 4,
 "nbformat_minor": 2
}
