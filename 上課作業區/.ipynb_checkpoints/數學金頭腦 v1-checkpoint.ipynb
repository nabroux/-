{
 "cells": [
  {
   "cell_type": "markdown",
   "metadata": {},
   "source": [
    "# 105306076 資管四 許雲輔 數學金頭腦 v1"
   ]
  },
  {
   "cell_type": "code",
   "execution_count": 42,
   "metadata": {},
   "outputs": [
    {
     "name": "stdout",
     "output_type": "stream",
     "text": [
      "【請用分數形式回答，以斜線當作除號，就算分母為1也不可省略】\n",
      "2/3 + 6/13 = 3/44\n",
      "你答錯了！答案是 44/39\n"
     ]
    }
   ],
   "source": [
    "import sympy as sp\n",
    "import random\n",
    "sp.init_printing()\n",
    "a = sp.S(random.randint(1,20))/random.randint(1,20)\n",
    "b = sp.S(random.randint(1,20))/random.randint(1,20)\n",
    "answer = a + b\n",
    "\n",
    "print('【請用分數形式回答，以斜線當作除號，就算分母為1也不可省略】')\n",
    "reply = input(str(a)+' + '+str(b)+' = ').split('/')\n",
    "\n",
    "if sp.S(int(reply[0]))/int(reply[1]) == answer:\n",
    "    print('恭喜答對！')\n",
    "else:\n",
    "    print('你答錯了！答案是', answer)"
   ]
  }
 ],
 "metadata": {
  "kernelspec": {
   "display_name": "Python 3",
   "language": "python",
   "name": "python3"
  },
  "language_info": {
   "codemirror_mode": {
    "name": "ipython",
    "version": 3
   },
   "file_extension": ".py",
   "mimetype": "text/x-python",
   "name": "python",
   "nbconvert_exporter": "python",
   "pygments_lexer": "ipython3",
   "version": "3.7.3"
  }
 },
 "nbformat": 4,
 "nbformat_minor": 2
}
