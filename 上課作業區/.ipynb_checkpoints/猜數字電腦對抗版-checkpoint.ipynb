{
 "cells": [
  {
   "cell_type": "markdown",
   "metadata": {},
   "source": [
    "# 電腦猜你的幾A幾B 105306076 資管四 許雲輔"
   ]
  },
  {
   "cell_type": "code",
   "execution_count": 1,
   "metadata": {},
   "outputs": [],
   "source": [
    "import numpy as np"
   ]
  },
  {
   "cell_type": "code",
   "execution_count": 2,
   "metadata": {},
   "outputs": [],
   "source": [
    "def isValid(num):\n",
    "    num = str(num)\n",
    "    for n in num:\n",
    "        if n == '0':\n",
    "            return False\n",
    "    n1,n2,n3,n4 = num[0],num[1],num[2],num[3]\n",
    "    if n1!=n2 and n1!=n3 and n2!=n3 and n3!=n4 and n2!=n4 and n1!=n4:\n",
    "        return True\n",
    "    else:\n",
    "        return False\n",
    "    \n",
    "def checkAnswer(guess, ans):\n",
    "    a_num = 0\n",
    "    b_num = 0\n",
    "    for i in range(4):\n",
    "        if guess[i] in ans:\n",
    "            b_num += 1\n",
    "        if guess[i] == ans[i]:\n",
    "            a_num += 1\n",
    "            b_num -= 1\n",
    "    return (a_num,b_num)"
   ]
  },
  {
   "cell_type": "code",
   "execution_count": 11,
   "metadata": {},
   "outputs": [
    {
     "name": "stdout",
     "output_type": "stream",
     "text": [
      "\n",
      "【電腦猜了 2198 】\n",
      "請問幾A  0\n",
      "請問幾B  2\n",
      "\n",
      "【電腦猜了 8954 】\n",
      "請問幾A  0\n",
      "請問幾B  3\n",
      "\n",
      "【電腦猜了 4529 】\n",
      "請問幾A  0\n",
      "請問幾B  2\n",
      "\n",
      "【電腦猜了 9846 】\n",
      "請問幾A  1\n",
      "請問幾B  2\n",
      "\n",
      "【電腦猜了 9487 】\n",
      "請問幾A  4\n",
      "請問幾B  0\n",
      "【Game Over! 電腦猜了5次】\n"
     ]
    }
   ],
   "source": [
    "time = 0\n",
    "possibles = []\n",
    "for i in range(1234,9877):\n",
    "    if isValid(i):\n",
    "        possibles.append(str(i))\n",
    "\n",
    "while True:\n",
    "    ai_guess = str(np.random.choice(possibles))\n",
    "    n = []\n",
    "    print('\\n【電腦猜了', ai_guess, '】')\n",
    "    time += 1\n",
    "    player_A = int(input('請問幾A  '))\n",
    "    player_B = int(input('請問幾B  '))\n",
    "    \n",
    "    if player_A != 4:\n",
    "        for possible in possibles:\n",
    "            ai_A = checkAnswer(ai_guess, possible)[0]\n",
    "            ai_B = checkAnswer(ai_guess, possible)[1]\n",
    "            if ai_A == player_A and ai_B == player_B:\n",
    "                n.append(possible)\n",
    "        possibles = n\n",
    "    else:\n",
    "        break\n",
    "print('【Game Over! 電腦猜了{}次】'.format(time))"
   ]
  },
  {
   "cell_type": "code",
   "execution_count": null,
   "metadata": {},
   "outputs": [],
   "source": []
  }
 ],
 "metadata": {
  "kernelspec": {
   "display_name": "Python 3",
   "language": "python",
   "name": "python3"
  },
  "language_info": {
   "codemirror_mode": {
    "name": "ipython",
    "version": 3
   },
   "file_extension": ".py",
   "mimetype": "text/x-python",
   "name": "python",
   "nbconvert_exporter": "python",
   "pygments_lexer": "ipython3",
   "version": "3.7.3"
  }
 },
 "nbformat": 4,
 "nbformat_minor": 2
}
