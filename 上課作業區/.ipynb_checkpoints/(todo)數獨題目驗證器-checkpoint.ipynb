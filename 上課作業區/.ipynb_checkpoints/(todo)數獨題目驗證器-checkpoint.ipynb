{
 "cells": [
  {
   "cell_type": "markdown",
   "metadata": {},
   "source": [
    "# 105306076 資管四 數獨題目驗證器"
   ]
  },
  {
   "cell_type": "code",
   "execution_count": null,
   "metadata": {},
   "outputs": [],
   "source": [
    "'''\n",
    "123456789\n",
    "234567891\n",
    "345678912\n",
    "456789123\n",
    "567891234\n",
    "678912345\n",
    "789123456\n",
    "891234567\n",
    "912345678\n",
    "\n",
    "123456789\n",
    "789123456\n",
    "456789123\n",
    "234567891\n",
    "567891234\n",
    "891234567\n",
    "345678912\n",
    "678912345\n",
    "912345678\n",
    "'''"
   ]
  },
  {
   "cell_type": "code",
   "execution_count": 3,
   "metadata": {},
   "outputs": [
    {
     "name": "stdout",
     "output_type": "stream",
     "text": [
      "歡迎來到數獨題目驗證器，請輸入你的數獨題目\n",
      "一次輸入一行，一行9個數字\n",
      "123456789\n",
      "789123456\n",
      "456789123\n",
      "234567891\n",
      "678912345\n",
      "912345678\n",
      "345678912\n",
      "567891234\n",
      "891234567\n",
      "Invalid\n"
     ]
    }
   ],
   "source": [
    "import numpy as np\n",
    "sudo =  []\n",
    "\n",
    "def valid_line(line):\n",
    "    for n in range(1,10):\n",
    "        if n in line:\n",
    "            continue\n",
    "        else:\n",
    "            return False\n",
    "    return True\n",
    "\n",
    "def valid_block(sudo):\n",
    "    for i in range(3):\n",
    "        for j in range(3):\n",
    "            block = sudo[i*3:(i+1)*3 , j*3:(j+1)*3]\n",
    "            block = list(block.flat)\n",
    "            if not valid_line(block):\n",
    "                return False\n",
    "    return True\n",
    "    \n",
    "def valid_sudo(sudo):\n",
    "    for i in range(0,9):\n",
    "        if not valid_line(sudo[i,:]):\n",
    "            return False\n",
    "        if not valid_line(sudo[:,i]):\n",
    "            return False\n",
    "    return True\n",
    "\n",
    "print('歡迎來到數獨題目驗證器，請輸入你的數獨題目')\n",
    "print('一次輸入一行，一行9個數字')\n",
    "for x in range(9):\n",
    "    line = input().split()\n",
    "    line = [int(n) for n in line]\n",
    "    sudo.append(line)\n",
    "sudoku = np.array(sudo)\n",
    "\n",
    "if valid_block(sudoku) and valid_sudo(sudoku):\n",
    "    res = 'Valid'\n",
    "else:\n",
    "    res = 'Invalid'\n",
    "print(res)\n"
   ]
  },
  {
   "cell_type": "code",
   "execution_count": 6,
   "metadata": {},
   "outputs": [
    {
     "name": "stdout",
     "output_type": "stream",
     "text": [
      "歡迎來到數獨題目驗證器，請輸入你的數獨題目\n",
      "一次輸入一行，一行9個數字\n",
      "761934825\n",
      "354628197\n",
      "928157634\n",
      "219546378\n",
      "483279516\n",
      "576381942\n",
      "195762483\n",
      "832495761\n",
      "647813259\n",
      "Invalid\n"
     ]
    }
   ],
   "source": [
    "import numpy as np\n",
    "sudo =  []\n",
    "\n",
    "def valid_line(line):\n",
    "    for n in range(1,10):\n",
    "        if n in line:\n",
    "            continue\n",
    "        else:\n",
    "            return False\n",
    "    return True\n",
    "\n",
    "def valid_block(sudo):\n",
    "    for i in range(3):\n",
    "        for j in range(3):\n",
    "            block = sudo[i*3:(i+1)*3 , j*3:(j+1)*3]\n",
    "            block = list(block.flat)\n",
    "            if not valid_line(block):\n",
    "                return False\n",
    "    return True\n",
    "    \n",
    "def valid_sudo(sudo):\n",
    "    for i in range(0,9):\n",
    "        if not valid_line(sudo[i,:]):\n",
    "            return False\n",
    "        if not valid_line(sudo[:,i]):\n",
    "            return False\n",
    "    return True\n",
    "\n",
    "print('歡迎來到數獨題目驗證器，請輸入你的數獨題目')\n",
    "print('一次輸入一行，一行9個數字')\n",
    "for x in range(9):\n",
    "    line = input().split()\n",
    "    line = [int(n) for n in line]\n",
    "    sudo.append(line)\n",
    "sudoku = np.array(sudo)\n",
    "\n",
    "if valid_block(sudoku) and valid_sudo(sudoku):\n",
    "    res = 'Valid'\n",
    "else:\n",
    "    res = 'Invalid'\n",
    "print(res)"
   ]
  },
  {
   "cell_type": "code",
   "execution_count": null,
   "metadata": {},
   "outputs": [],
   "source": [
    "761934825\n",
    "354628197\n",
    "928157634\n",
    "219546378\n",
    "483279516\n",
    "576381942\n",
    "195762483\n",
    "832495761\n",
    "647813259"
   ]
  }
 ],
 "metadata": {
  "kernelspec": {
   "display_name": "Python 3",
   "language": "python",
   "name": "python3"
  },
  "language_info": {
   "codemirror_mode": {
    "name": "ipython",
    "version": 3
   },
   "file_extension": ".py",
   "mimetype": "text/x-python",
   "name": "python",
   "nbconvert_exporter": "python",
   "pygments_lexer": "ipython3",
   "version": "3.7.3"
  }
 },
 "nbformat": 4,
 "nbformat_minor": 2
}
