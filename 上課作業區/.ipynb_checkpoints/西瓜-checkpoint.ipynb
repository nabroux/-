{
 "cells": [
  {
   "cell_type": "markdown",
   "metadata": {},
   "source": [
    "# 簡易西瓜資料 SVM 分類 105306076 資管四 許雲輔"
   ]
  },
  {
   "cell_type": "markdown",
   "metadata": {},
   "source": [
    "### 整理訓練資料"
   ]
  },
  {
   "cell_type": "code",
   "execution_count": 1,
   "metadata": {},
   "outputs": [],
   "source": [
    "%matplotlib inline\n",
    "import numpy as np\n",
    "import matplotlib.pyplot as plt\n",
    "import pandas as pd\n",
    "\n",
    "from sklearn.datasets import load_iris\n",
    "from sklearn.model_selection import train_test_split\n",
    "from sklearn.svm import SVC"
   ]
  },
  {
   "cell_type": "code",
   "execution_count": 6,
   "metadata": {},
   "outputs": [],
   "source": [
    "df = pd.read_csv('xigua.csv')"
   ]
  },
  {
   "cell_type": "code",
   "execution_count": 12,
   "metadata": {},
   "outputs": [],
   "source": [
    "df.drop('编号', axis=1, inplace=True)"
   ]
  },
  {
   "cell_type": "code",
   "execution_count": null,
   "metadata": {},
   "outputs": [],
   "source": [
    "df['色泽']"
   ]
  },
  {
   "cell_type": "code",
   "execution_count": 17,
   "metadata": {},
   "outputs": [],
   "source": [
    "df1 = df.replace({'乌黑': 0, '青绿': 1, '浅白': 2, '蜷缩': 0, '稍蜷': 1, '硬挺': 2, '沉闷': 0, '浊响': 1, '清脆': 2,\n",
    "            '清晰': 0, '稍糊': 1, '模糊': 2, '凹陷': 0, '稍凹': 1, '平坦': 2, '硬滑': 0, '软粘': 1, '否': 0, '是': 1})"
   ]
  },
  {
   "cell_type": "code",
   "execution_count": 19,
   "metadata": {},
   "outputs": [
    {
     "data": {
      "text/html": [
       "<div>\n",
       "<style scoped>\n",
       "    .dataframe tbody tr th:only-of-type {\n",
       "        vertical-align: middle;\n",
       "    }\n",
       "\n",
       "    .dataframe tbody tr th {\n",
       "        vertical-align: top;\n",
       "    }\n",
       "\n",
       "    .dataframe thead th {\n",
       "        text-align: right;\n",
       "    }\n",
       "</style>\n",
       "<table border=\"1\" class=\"dataframe\">\n",
       "  <thead>\n",
       "    <tr style=\"text-align: right;\">\n",
       "      <th></th>\n",
       "      <th>色泽</th>\n",
       "      <th>根蒂</th>\n",
       "      <th>敲声</th>\n",
       "      <th>纹理</th>\n",
       "      <th>脐部</th>\n",
       "      <th>触感</th>\n",
       "      <th>密度</th>\n",
       "      <th>含糖率</th>\n",
       "      <th>好瓜</th>\n",
       "    </tr>\n",
       "  </thead>\n",
       "  <tbody>\n",
       "    <tr>\n",
       "      <th>色泽</th>\n",
       "      <td>1.000000</td>\n",
       "      <td>-0.038005</td>\n",
       "      <td>0.216725</td>\n",
       "      <td>0.543075</td>\n",
       "      <td>0.263800</td>\n",
       "      <td>-0.113592</td>\n",
       "      <td>-0.192613</td>\n",
       "      <td>-0.401722</td>\n",
       "      <td>-0.371574</td>\n",
       "    </tr>\n",
       "    <tr>\n",
       "      <th>根蒂</th>\n",
       "      <td>-0.038005</td>\n",
       "      <td>1.000000</td>\n",
       "      <td>0.551856</td>\n",
       "      <td>0.099973</td>\n",
       "      <td>0.433823</td>\n",
       "      <td>0.334575</td>\n",
       "      <td>-0.661613</td>\n",
       "      <td>-0.205056</td>\n",
       "      <td>-0.376689</td>\n",
       "    </tr>\n",
       "    <tr>\n",
       "      <th>敲声</th>\n",
       "      <td>0.216725</td>\n",
       "      <td>0.551856</td>\n",
       "      <td>1.000000</td>\n",
       "      <td>0.117698</td>\n",
       "      <td>0.543134</td>\n",
       "      <td>0.393893</td>\n",
       "      <td>-0.787902</td>\n",
       "      <td>-0.101274</td>\n",
       "      <td>-0.112367</td>\n",
       "    </tr>\n",
       "    <tr>\n",
       "      <th>纹理</th>\n",
       "      <td>0.543075</td>\n",
       "      <td>0.099973</td>\n",
       "      <td>0.117698</td>\n",
       "      <td>1.000000</td>\n",
       "      <td>0.584059</td>\n",
       "      <td>-0.039841</td>\n",
       "      <td>-0.159675</td>\n",
       "      <td>-0.824631</td>\n",
       "      <td>-0.645561</td>\n",
       "    </tr>\n",
       "    <tr>\n",
       "      <th>脐部</th>\n",
       "      <td>0.263800</td>\n",
       "      <td>0.433823</td>\n",
       "      <td>0.543134</td>\n",
       "      <td>0.584059</td>\n",
       "      <td>1.000000</td>\n",
       "      <td>0.474144</td>\n",
       "      <td>-0.714276</td>\n",
       "      <td>-0.572643</td>\n",
       "      <td>-0.538832</td>\n",
       "    </tr>\n",
       "    <tr>\n",
       "      <th>触感</th>\n",
       "      <td>-0.113592</td>\n",
       "      <td>0.334575</td>\n",
       "      <td>0.393893</td>\n",
       "      <td>-0.039841</td>\n",
       "      <td>0.474144</td>\n",
       "      <td>1.000000</td>\n",
       "      <td>-0.664332</td>\n",
       "      <td>0.064253</td>\n",
       "      <td>-0.091287</td>\n",
       "    </tr>\n",
       "    <tr>\n",
       "      <th>密度</th>\n",
       "      <td>-0.192613</td>\n",
       "      <td>-0.661613</td>\n",
       "      <td>-0.787902</td>\n",
       "      <td>-0.159675</td>\n",
       "      <td>-0.714276</td>\n",
       "      <td>-0.664332</td>\n",
       "      <td>1.000000</td>\n",
       "      <td>0.195889</td>\n",
       "      <td>0.239326</td>\n",
       "    </tr>\n",
       "    <tr>\n",
       "      <th>含糖率</th>\n",
       "      <td>-0.401722</td>\n",
       "      <td>-0.205056</td>\n",
       "      <td>-0.101274</td>\n",
       "      <td>-0.824631</td>\n",
       "      <td>-0.572643</td>\n",
       "      <td>0.064253</td>\n",
       "      <td>0.195889</td>\n",
       "      <td>1.000000</td>\n",
       "      <td>0.534449</td>\n",
       "    </tr>\n",
       "    <tr>\n",
       "      <th>好瓜</th>\n",
       "      <td>-0.371574</td>\n",
       "      <td>-0.376689</td>\n",
       "      <td>-0.112367</td>\n",
       "      <td>-0.645561</td>\n",
       "      <td>-0.538832</td>\n",
       "      <td>-0.091287</td>\n",
       "      <td>0.239326</td>\n",
       "      <td>0.534449</td>\n",
       "      <td>1.000000</td>\n",
       "    </tr>\n",
       "  </tbody>\n",
       "</table>\n",
       "</div>"
      ],
      "text/plain": [
       "           色泽        根蒂        敲声        纹理        脐部        触感        密度  \\\n",
       "色泽   1.000000 -0.038005  0.216725  0.543075  0.263800 -0.113592 -0.192613   \n",
       "根蒂  -0.038005  1.000000  0.551856  0.099973  0.433823  0.334575 -0.661613   \n",
       "敲声   0.216725  0.551856  1.000000  0.117698  0.543134  0.393893 -0.787902   \n",
       "纹理   0.543075  0.099973  0.117698  1.000000  0.584059 -0.039841 -0.159675   \n",
       "脐部   0.263800  0.433823  0.543134  0.584059  1.000000  0.474144 -0.714276   \n",
       "触感  -0.113592  0.334575  0.393893 -0.039841  0.474144  1.000000 -0.664332   \n",
       "密度  -0.192613 -0.661613 -0.787902 -0.159675 -0.714276 -0.664332  1.000000   \n",
       "含糖率 -0.401722 -0.205056 -0.101274 -0.824631 -0.572643  0.064253  0.195889   \n",
       "好瓜  -0.371574 -0.376689 -0.112367 -0.645561 -0.538832 -0.091287  0.239326   \n",
       "\n",
       "          含糖率        好瓜  \n",
       "色泽  -0.401722 -0.371574  \n",
       "根蒂  -0.205056 -0.376689  \n",
       "敲声  -0.101274 -0.112367  \n",
       "纹理  -0.824631 -0.645561  \n",
       "脐部  -0.572643 -0.538832  \n",
       "触感   0.064253 -0.091287  \n",
       "密度   0.195889  0.239326  \n",
       "含糖率  1.000000  0.534449  \n",
       "好瓜   0.534449  1.000000  "
      ]
     },
     "execution_count": 19,
     "metadata": {},
     "output_type": "execute_result"
    }
   ],
   "source": [
    "df1.corr()"
   ]
  },
  {
   "cell_type": "markdown",
   "metadata": {},
   "source": [
    "### 選擇相關係數較高的兩個 features 進行訓練、預測"
   ]
  },
  {
   "cell_type": "code",
   "execution_count": 131,
   "metadata": {},
   "outputs": [],
   "source": [
    "x = np.array(df1.loc[:, ['纹理', '含糖率']])\n",
    "y = np.array(df1.loc[:, '好瓜'])"
   ]
  },
  {
   "cell_type": "code",
   "execution_count": 132,
   "metadata": {},
   "outputs": [],
   "source": [
    "x_train, x_test, y_train, y_test = train_test_split(x, y,\n",
    "                                                   test_size=0.4,\n",
    "                                                   random_state=0)"
   ]
  },
  {
   "cell_type": "code",
   "execution_count": 133,
   "metadata": {},
   "outputs": [
    {
     "name": "stdout",
     "output_type": "stream",
     "text": [
      "[ 0 -1  0  1  0  0  0]\n"
     ]
    }
   ],
   "source": [
    "clf = SVC(gamma='auto')\n",
    "clf.fit(x_train, y_train)\n",
    "y_predict = clf.predict(x_test)\n",
    "res = y_predict - y_test\n",
    "print(res)"
   ]
  },
  {
   "cell_type": "code",
   "execution_count": 145,
   "metadata": {},
   "outputs": [
    {
     "name": "stdout",
     "output_type": "stream",
     "text": [
      "正確率： 0.7142857142857143\n"
     ]
    },
    {
     "data": {
      "image/png": "[encoded data removed]",
      "text/plain": [
       "<Figure size 432x288 with 1 Axes>"
      ]
     },
     "metadata": {
      "needs_background": "light"
     },
     "output_type": "display_data"
    }
   ],
   "source": [
    "xm = np.arange(0, 1.5, 0.02)\n",
    "ym = np.arange(0, 0.6, 0.02)\n",
    "x_grid, y_grid = np.meshgrid(xm, ym)\n",
    "point = np.c_[x_grid.ravel(), y_grid.ravel()]\n",
    "z = clf.predict(point)\n",
    "z_grid = z.reshape(x_grid.shape)\n",
    "\n",
    "plt.contourf(x_grid, y_grid, z_grid, alpha=0.5)\n",
    "plt.scatter(x_test[:,0], x_test[:,1], c=y_test)\n",
    "print('正確率：', len(res[res==0])/len(res))"
   ]
  },
  {
   "cell_type": "code",
   "execution_count": null,
   "metadata": {},
   "outputs": [],
   "source": []
  }
 ],
 "metadata": {
  "kernelspec": {
   "display_name": "Python 3",
   "language": "python",
   "name": "python3"
  },
  "language_info": {
   "codemirror_mode": {
    "name": "ipython",
    "version": 3
   },
   "file_extension": ".py",
   "mimetype": "text/x-python",
   "name": "python",
   "nbconvert_exporter": "python",
   "pygments_lexer": "ipython3",
   "version": "3.7.3"
  }
 },
 "nbformat": 4,
 "nbformat_minor": 2
}
