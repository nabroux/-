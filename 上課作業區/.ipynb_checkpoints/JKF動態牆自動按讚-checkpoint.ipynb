{
 "cells": [
  {
   "cell_type": "markdown",
   "metadata": {},
   "source": [
    "# 105306076 資管四 許雲輔 JKF動態牆自動按讚"
   ]
  },
  {
   "cell_type": "code",
   "execution_count": 28,
   "metadata": {},
   "outputs": [
    {
     "name": "stdout",
     "output_type": "stream",
     "text": [
      "登入完成請按Enter\n",
      "倒數五秒後開始\n",
      "\n",
      "feed-card-df90fe8d-c020-4055-a576-86723162ba7f\n",
      "JKF紅燈區\n",
      "會跳舞的女孩真的很性感\n",
      "【已按讚】\n",
      "\n",
      "feed-card-26eca57b-07ff-463e-862f-02e493307842\n",
      "南港7條蛇\n",
      "換個方向想，搞不好忌妒會讓人成長啊！\n",
      "【已按讚】\n",
      "\n",
      "feed-card-07d5ff83-ae24-49d4-aa15-935c037c5589\n",
      "JKF女郎\n",
      "這眼神讓人如何是好\n",
      "\n",
      "#JKF女郎 #主持人x佳蓉 （熊貓兒）\n",
      "【已按讚】\n",
      "\n",
      "feed-card-1c09219d-7f9a-44b1-b462-53a04050924b\n",
      "假文青派大星\n",
      "這個腰窩有厲害到！！！\n",
      "【已按讚】\n",
      "\n",
      "feed-card-cce1ce6f-f9a7-485f-9ecb-13cac0a643c6\n",
      "ThaiBeauty\n",
      "Concept:Sweet_Milk�\n",
      "Model:Sasikran_Boonprsert�\n",
      "Photographer:Tatchai_Mongkolthong\n",
      "【已按讚】\n",
      "\n",
      "feed-card-c742628b-e70f-4b74-8cac-3adc46ee6d49\n",
      "JKF女郎\n",
      "揪團去鬆一下\n",
      "\n",
      "#JKF女郎 #艾薇兒Elvira\n",
      "【已按讚】\n",
      "\n",
      "feed-card-e41e5571-55c7-44f7-94b2-56cea2900d43\n",
      "西瓜視頻\n",
      "小夥把滾燙的金屬倒進模具，冷卻後挖出就是成品，看看做了個啥\n",
      "【已按讚】\n",
      "\n",
      "feed-card-7b464af4-7a1c-446a-b436-02d0815e3a73\n",
      "JKF捷克論壇\n",
      "超強的後進體位能把人服侍的服服貼貼\n",
      "搖到出水都沒問題!!!\n",
      "\n",
      "\n",
      "#JKF女郎 #Jeannine珍琳\n",
      "【已按讚】\n",
      "\n"
     ]
    }
   ],
   "source": [
    "from selenium import webdriver\n",
    "import time\n",
    "\n",
    "url = 'https://www.jkforum.net/member.php?mod=logging&action=login&referer=https%3A%2F%2Fwww.jkforum.net%2Fhome%2F'\n",
    "driver = webdriver.Chrome('chromedriver.exe')\n",
    "driver.get(url)\n",
    "input('登入完成請按Enter')\n",
    "print('倒數五秒後開始\\n')\n",
    "time.sleep(5)\n",
    "\n",
    "posts = driver.find_elements_by_class_name('feed-card-container')\n",
    "for post in posts:\n",
    "    data_feed_id = post.get_attribute('data-feed-id')\n",
    "    author = post.find_element_by_class_name('author').text\n",
    "    content = post.find_element_by_class_name('md-card-content').text\n",
    "    print(data_feed_id, author, content, sep='\\n')\n",
    "    \n",
    "    like_button = post.find_element_by_class_name('md-like')\n",
    "    time.sleep(1)\n",
    "    like_button.click()\n",
    "    print('【已按讚】\\n')"
   ]
  }
 ],
 "metadata": {
  "kernelspec": {
   "display_name": "Python 3",
   "language": "python",
   "name": "python3"
  },
  "language_info": {
   "codemirror_mode": {
    "name": "ipython",
    "version": 3
   },
   "file_extension": ".py",
   "mimetype": "text/x-python",
   "name": "python",
   "nbconvert_exporter": "python",
   "pygments_lexer": "ipython3",
   "version": "3.7.3"
  }
 },
 "nbformat": 4,
 "nbformat_minor": 2
}
