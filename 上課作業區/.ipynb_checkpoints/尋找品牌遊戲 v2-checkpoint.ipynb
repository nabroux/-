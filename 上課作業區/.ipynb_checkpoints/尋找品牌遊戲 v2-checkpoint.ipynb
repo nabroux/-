{
 "cells": [
  {
   "cell_type": "markdown",
   "metadata": {},
   "source": [
    "# 105306076 資管四 許雲輔 尋找品牌遊戲 v2"
   ]
  },
  {
   "cell_type": "code",
   "execution_count": 17,
   "metadata": {},
   "outputs": [
    {
     "name": "stdout",
     "output_type": "stream",
     "text": [
      "u l h p y m a p t j l w a c t\n",
      "w b b x v x e z j z i p d k f\n",
      "t q m m n m x m l k r r g l e\n",
      "r e o n s c p s z u p m p y s\n",
      "r s j x u n i q l o x h w e f\n",
      "r v p m c i q t e m r b i u c\n",
      "c s g g l s y b r n l h e k l\n",
      "f w e b v q d x f z r t t e u\n",
      "z f a f m o m w c g h r u v i\n",
      "z e v b n n l s q q k o h b l\n",
      "c j o t m r a j z f j o j p z\n",
      "i c e a x i u e i d p v i b x\n",
      "n e q s s u l x k a c h y k l\n",
      "e f e e v i z p j n y k l n u\n",
      "a l j r r c o i n e e t f z h\n",
      "找看看哪個品牌藏在其中吧!(字母順序只會是 左到右 或 上到下 )\n",
      "答案是：\n",
      "\n",
      "猜錯囉!答案是 uniqlo\n"
     ]
    }
   ],
   "source": [
    "import random\n",
    "board = []\n",
    "alphabet = list('abcdefghijklmnopqrstuvwxyz')\n",
    "\n",
    "def displayBoard(board):\n",
    "    for row in board:\n",
    "        print(' '.join(row))\n",
    "\n",
    "for i in range(15):\n",
    "    row = []\n",
    "    for j in range(15):\n",
    "        a = random.choice(alphabet)\n",
    "        row.append(a)\n",
    "    board.append(row)\n",
    "\n",
    "answers = ['adidas', 'benz', 'coach', 'dior', 'gucci', 'asus', 'chanel', 'puma', 'muji', 'uniqlo', 'starbucks', 'google']\n",
    "answer = random.choice(answers)\n",
    "\n",
    "if random.randint(1,2) == 1:\n",
    "    x = random.randint(0,15-len(answer))\n",
    "    y = random.randint(0,14)\n",
    "    board[y][x:x+len(answer)] = list(answer)\n",
    "else:\n",
    "    x = random.randint(0,14)\n",
    "    y = random.randint(0,15-len(answer))\n",
    "    for i in range(len(answer)):\n",
    "        board[y+i][x] = answer[i]\n",
    "\n",
    "displayBoard(board)\n",
    "print('找看看哪個品牌藏在其中吧!(字母順序只會是 左到右 或 上到下 )')\n",
    "guess = input('答案是：')\n",
    "if guess == answer:\n",
    "    print('\\n恭喜答對!!')\n",
    "else:\n",
    "    print('\\n猜錯囉!答案是 '+ answer)"
   ]
  },
  {
   "cell_type": "code",
   "execution_count": null,
   "metadata": {},
   "outputs": [],
   "source": []
  }
 ],
 "metadata": {
  "kernelspec": {
   "display_name": "Python 3",
   "language": "python",
   "name": "python3"
  },
  "language_info": {
   "codemirror_mode": {
    "name": "ipython",
    "version": 3
   },
   "file_extension": ".py",
   "mimetype": "text/x-python",
   "name": "python",
   "nbconvert_exporter": "python",
   "pygments_lexer": "ipython3",
   "version": "3.7.3"
  }
 },
 "nbformat": 4,
 "nbformat_minor": 2
}
