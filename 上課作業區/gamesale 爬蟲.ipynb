{
 "cells": [
  {
   "cell_type": "markdown",
   "metadata": {},
   "source": [
    "# 105306076 資管四 許雲輔 PTT gamesale 版爬蟲"
   ]
  },
  {
   "cell_type": "markdown",
   "metadata": {},
   "source": [
    "定期爬取指定PPT Gamesale版文章標題，若有目標出現則寄出email通知\n",
    "\n",
    "(request, pyquery)"
   ]
  },
  {
   "cell_type": "code",
   "execution_count": 18,
   "metadata": {
    "scrolled": true
   },
   "outputs": [
    {
     "name": "stdout",
     "output_type": "stream",
     "text": [
      "抓抓gamesale版買賣資訊!\n",
      "抓什麼平台呢? (0:PS4,1:Switch,2:PS3,3:PSV,4:XONE,5:PC,6:全)0\n",
      "輸入要抓的關鍵字，用空白區隔(只要其中一個符合就會通知!)死亡\n",
      "抓到內容時寄到哪個信箱?123nabroux@gmail.com\n",
      "[PS4] 售 死亡擱淺 /bbs/Gamesale/M.1573405329.A.83A.html\n",
      "[PS4 ] 售 死亡擱淺 一般版 鐵盒版 珍藏版 /bbs/Gamesale/M.1573408954.A.359.html\n",
      "[PS4 ] 徵 死亡擱淺 特別版 鐵盒版 /bbs/Gamesale/M.1573403080.A.23A.html\n",
      "[PS4 ] 徵 死亡擱淺 雙北面交 /bbs/Gamesale/M.1573403793.A.633.html\n",
      "[PS4 ] 售 死亡擱淺 中文版 /bbs/Gamesale/M.1573398023.A.DDE.html\n",
      "[PS4 ] 售 死亡擱淺 /bbs/Gamesale/M.1573388644.A.1F0.html\n",
      "[PS4 ] 售 死亡擱淺 /bbs/Gamesale/M.1573385071.A.3D1.html\n",
      "[PS4 ] 售 死亡擱淺@竹北 /bbs/Gamesale/M.1573379300.A.CB8.html\n",
      "[PS4] 售 死亡擱淺 /bbs/Gamesale/M.1573382059.A.595.html\n",
      "[PS4] 售死亡擱淺 特別版 鐵盒版（特典未使用） /bbs/Gamesale/M.1573375830.A.202.html\n",
      "[PS4 ] 徵 死亡擱淺珍藏版的Ludens吊飾 /bbs/Gamesale/M.1573372216.A.5B1.html\n",
      "[PS4 ] 徵 死亡擱淺 典藏版（台北面交為佳） /bbs/Gamesale/M.1573366310.A.10A.html\n",
      "[PS4] 徵 死亡擱淺 /bbs/Gamesale/M.1573368595.A.13F.html\n",
      "[PS4 ] 徵 死亡擱淺 特別版 鐵盒(已徵到) /bbs/Gamesale/M.1573362255.A.18D.html\n",
      "[PS4 ] 徵 死亡擱淺 台北面交 /bbs/Gamesale/M.1573363804.A.F05.html\n",
      "[PS4 ] 售 死亡擱淺 /bbs/Gamesale/M.1573364820.A.8C5.html\n",
      "[PS4 ] 徵 死亡擱淺 雙北面交 /bbs/Gamesale/M.1573365229.A.625.html\n",
      "[PS4 ] 售 死亡擱淺 典藏版 /bbs/Gamesale/M.1573358576.A.DBA.html\n",
      "[PS4 ] 徵 死亡擱淺 高雄面交優先 /bbs/Gamesale/M.1573358962.A.0C3.html\n",
      "[PS4 ] 已售出　死亡擱淺　中文版 /bbs/Gamesale/M.1573359048.A.2FB.html\n",
      "[PS4 ] 售死亡擱淺珍藏版及決勝時刻：先進戰爭 /bbs/Gamesale/M.1573361077.A.5F0.html\n",
      "[PS4 ] 售 死亡擱淺 一般版 鐵盒版 珍藏版 /bbs/Gamesale/M.1573361509.A.1A9.html\n",
      "[PS4 ] 售 死亡擱淺 人中之龍3 深淵狂獵 蛇魔3 /bbs/Gamesale/M.1573354414.A.A33.html\n",
      "[PS4 ] 售 死亡擱淺 1500 /bbs/Gamesale/M.1573343709.A.8D8.html\n",
      "[PS4 ] 售 死亡擱淺(含特典) /bbs/Gamesale/M.1573345255.A.EDC.html\n",
      "[PS4 ] 售 死亡擱淺 /bbs/Gamesale/M.1573346208.A.263.html\n",
      "(250, b'smtp.gmail.com at your service, [114.36.131.14]\\nSIZE 35882577\\n8BITMIME\\nAUTH LOGIN PLAIN XOAUTH2 PLAIN-CLIENTTOKEN OAUTHBEARER XOAUTH\\nENHANCEDSTATUSCODES\\nPIPELINING\\nCHUNKING\\nSMTPUTF8')\n",
      "Email sent!\n"
     ]
    },
    {
     "ename": "KeyboardInterrupt",
     "evalue": "",
     "output_type": "error",
     "traceback": [
      "\u001b[1;31m---------------------------------------------------------------------------\u001b[0m",
      "\u001b[1;31mKeyboardInterrupt\u001b[0m                         Traceback (most recent call last)",
      "\u001b[1;32m<ipython-input-18-e587369fd407>\u001b[0m in \u001b[0;36m<module>\u001b[1;34m\u001b[0m\n\u001b[0;32m     56\u001b[0m         \u001b[0mmsg\u001b[0m \u001b[1;33m=\u001b[0m \u001b[1;34m'抓到了！\\n'\u001b[0m\u001b[1;33m\u001b[0m\u001b[1;33m\u001b[0m\u001b[0m\n\u001b[0;32m     57\u001b[0m \u001b[1;33m\u001b[0m\u001b[0m\n\u001b[1;32m---> 58\u001b[1;33m     \u001b[0mtime\u001b[0m\u001b[1;33m.\u001b[0m\u001b[0msleep\u001b[0m\u001b[1;33m(\u001b[0m\u001b[1;36m10\u001b[0m\u001b[1;33m)\u001b[0m\u001b[1;33m\u001b[0m\u001b[1;33m\u001b[0m\u001b[0m\n\u001b[0m",
      "\u001b[1;31mKeyboardInterrupt\u001b[0m: "
     ]
    }
   ],
   "source": [
    "import smtplib\n",
    "from email.mime.text import MIMEText\n",
    "import requests\n",
    "import time\n",
    "from pyquery import PyQuery as pq\n",
    "\n",
    "platform_dict = {0:'PS4', 1:'NS', 2:'PS3', 3:'PSV', 4:'XONE', 5:'PC', 6:''}\n",
    "sent = []\n",
    "msg = '抓到了！\\n'\n",
    "\n",
    "print('抓抓gamesale版買賣資訊!')\n",
    "platform = int(input('抓什麼平台呢? (0:PS4,1:Switch,2:PS3,3:PSV,4:XONE,5:PC,6:全)'))\n",
    "keywords = input('輸入要抓的關鍵字，用空白區隔(只要其中一個符合就會通知!)').split()\n",
    "msg_to = input('抓到內容時寄到哪個信箱?')\n",
    "\n",
    "def send_email(msg):\n",
    "    gmail_user = 'philasofa@gmail.com'\n",
    "    gmail_password = 'xxxxxxxx' #應用程式password，這裡就不透露\n",
    "\n",
    "    msg = MIMEText(msg)\n",
    "    msg['Subject'] = '爬蟲通知'\n",
    "    msg['From'] = gmail_user\n",
    "    msg['To'] = msg_to\n",
    "\n",
    "    server = smtplib.SMTP_SSL('smtp.gmail.com', 465)\n",
    "    print(server.ehlo()) \n",
    "    server.login(gmail_user, gmail_password)\n",
    "    server.send_message(msg)\n",
    "    server.quit()\n",
    "\n",
    "    print('【Email sent!】')\n",
    "\n",
    "pages_per_crawler = 15\n",
    "\n",
    "#因為隨時檢查是無窮迴圈，所以先以KeyboardInterrupt終止\n",
    "while True:\n",
    "    url = 'https://www.ptt.cc/bbs/Gamesale/index.html'\n",
    "    for i in range(pages_per_crawler):\n",
    "        res = requests.get(url)\n",
    "        doc = pq(res.text)\n",
    "\n",
    "        a = doc('.title a')\n",
    "        next_page = doc('#action-bar-container > div > div.btn-group.btn-group-paging > a:nth-child(2)')\n",
    "        url  = 'https://www.ptt.cc' + next_page.attr(\"href\")\n",
    "        \n",
    "        for article in a.items():\n",
    "            title = article.text()\n",
    "            article_url = article.attr('href')\n",
    "            for keyword in keywords:\n",
    "                if keyword in title and platform_dict[platform] in title and article_url not in sent:\n",
    "                    sent.append(article_url)\n",
    "                    msg += title + '\\n'\n",
    "                    msg += 'https://www.ptt.cc' + article_url + '\\n\\n'\n",
    "                    print(title, article_url)\n",
    "                    \n",
    "    if msg != '抓到了！\\n' :\n",
    "        send_email(msg)\n",
    "        msg = '抓到了！\\n' \n",
    "        \n",
    "    time.sleep(10)\n"
   ]
  }
 ],
 "metadata": {
  "kernelspec": {
   "display_name": "Python 3",
   "language": "python",
   "name": "python3"
  },
  "language_info": {
   "codemirror_mode": {
    "name": "ipython",
    "version": 3
   },
   "file_extension": ".py",
   "mimetype": "text/x-python",
   "name": "python",
   "nbconvert_exporter": "python",
   "pygments_lexer": "ipython3",
   "version": "3.7.3"
  }
 },
 "nbformat": 4,
 "nbformat_minor": 2
}
